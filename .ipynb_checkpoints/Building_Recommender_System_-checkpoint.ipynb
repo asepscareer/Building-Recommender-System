{
 "cells": [
  {
   "cell_type": "markdown",
   "metadata": {
    "colab_type": "text",
    "id": "O39GrD4bjhS6"
   },
   "source": [
    "<center> <h1> Building Recommender System </h1> </center>\n",
    "\n",
    "----\n",
    "\n",
    "<div id=\"theory\"><h2>Latar Belakang</h2><div class=\"p-Widget jp-Cell jp-MarkdownCell jp-mod-rendered jp-Notebook-cell jp-mod-active jp-mod-selected\">\n",
    "<div class=\"p-Widget p-Panel jp-Cell-inputWrapper\">\n",
    "<div class=\"p-Widget jp-InputArea jp-Cell-inputArea\">\n",
    "<div class=\"p-Widget jp-RenderedHTMLCommon jp-RenderedMarkdown jp-MarkdownOutput\" data-mime-type=\"text/markdown\">\n",
    "<p style=\"text-align: justify;\">Terdapat 2 dasar tipe sistem rekomendasi:</p>\n",
    "<ol style=\"text-align: justify;\">\n",
    "<li>Sistem Rekomendasi <strong>Sederhana</strong></li>\n",
    "<li>Sistem Rekomendasi <strong>Berdasarkan Konten dari Fiturnya</strong></li>\n",
    "</ol>\n",
    "</div>\n",
    "</div>\n",
    "</div>\n",
    "<div class=\"p-Widget jp-CellFooter jp-Cell-footer\" style=\"text-align: justify;\">&nbsp;</div>\n",
    "</div>\n",
    "\n",
    "Sistem Rekomendasi Sederhana</strong>, seperti namanya adalah sistem rekomendasi yang hanya <strong>menggunakan urutan sebagai dasar perhitungannya</strong>, yang biasanya digunakan dalam '5 film terbaik' kita akan menggunakan urutan berdasarkan mungkin vote terbanyak, rating tertinggi, penjualan film paling tinggi, atau apapun yang lain.</div>\n",
    "<div class=\"p-Widget p-Panel jp-Cell-inputWrapper\">\n",
    "<div class=\"p-Widget jp-InputArea jp-Cell-inputArea\">\n",
    "<div class=\"p-Widget jp-RenderedHTMLCommon jp-RenderedMarkdown jp-MarkdownOutput\" data-mime-type=\"text/markdown\">\n",
    "<p style=\"text-align: justify;\">Dalam kasus ini, kita akan menggunakan kombinasi antara rata-rata rating, jumlah vote, dan membentuk metric baru dari metric yang sudah ada, kemudian kita akan melakukan sorting untuk metric ini dari yang tertinggi ke terendah.</p>\n",
    "</div>\n",
    "</div>\n",
    "</div>\n",
    "</div></div>"
   ]
  },
  {
   "cell_type": "markdown",
   "metadata": {
    "colab_type": "text",
    "id": "B0bnojEBj1R8"
   },
   "source": [
    "<div id=\"theory\"><h2>Simple Recommender Engine using Weighted Average</h2><p>Simple Recommender Engine menawarkan rekomendasi yang umum untuk semua user berdasarkan popularitas film dan terkadang genre.</p>\n",
    "<p>Ide awal di balik sistem rekomendasi ini adalah sebagai berikut.</p>\n",
    "<ol>\n",
    "<li>Film-film yang lebih populer akan memiliki kemungkinan yang lebih besar untuk disukai juga oleh rata-rata penonton.</li>\n",
    "<li>Model ini tidak memberikan rekomendasi yang personal untuk setiap tipe user.&nbsp;</li>\n",
    "<li>Implementasi model ini pun juga bisa dibilang cukup mudah, yang perlu kita lakukan hanyalah mengurutkan film-film tersebut berdasarkan rating dan popularitas dan menunjukkan film teratas dari list film tersebut.</li>\n",
    "</ol>\n",
    "<p>Sebagai tambahan, kita dapat menambahkan genre untuk mendapatkan film teratas untuk genre spesifik tersebut</p></div>"
   ]
  },
  {
   "cell_type": "markdown",
   "metadata": {
    "colab_type": "text",
    "id": "WCRPe_apkK_6"
   },
   "source": [
    "<div id=\"theory\"><h2>Formula dari IMDB dengan Weighted Rating</h2><p>&nbsp;</p>\n",
    "<p><img src=\"data:image/png;base64,iVBORw0KGgoAAAANSUhEUgAAAvoAAABtCAYAAADQ48UHAAAYKWlDQ1BJQ0MgUHJvZmlsZQAAWIWVWQdUFEuXru6JMAxhyDnnnHPOUXIShCEPmSGDRBFFFBUUCYKKiIAoJqKIgKCoiAiKYEQRQUUfooCIwDagvve/3bN7tuZ09ze3b936qurWrbozAHCzkKOjw2FGACIi46iO5kYC7h6eAri3AEI+9EAWaJH9Y6MN7e1tAFJ+P/+zLI4iukgZkd2w9d/f/6+FKSAw1h8AyB7BfgGx/hEIvgoAmsM/mhoHAGYAkQsnxkVv4DkEs1ARggBg0Rs4eAtzbGC/LSyzqePsaIxgAwDwdGQyNRgA+g3eAgn+wYgdeoQjlhQZQIlEVDMRrOcfQg4AgKsL0ZGJiIjawLMIlvD7h53g/7Dp98cmmRz8B2/1ZbPgTSix0eHk5P/ncPzfJSI8/ncbQshFF0K1cNzoMzJutWFR1huYDsEdkX522xBMQnA/JWBTfwM/DYm3cPmlP+sfa4yMGWADAAYBZBNrBPMgmC0+zMXwF1YiUzfrIvqwHSXO0vkX9qNGOf6yDydEhtvZ/LKzNyTQ8jeuDIw1dfqtE0Qxs0Qw4mnw1ZQQZ7ctnnBvAsXVDsH0CB6KDXOy/lX3ZUqIsd1vHWq84wZnEQR/C6KaOW7poDgiYn/3CyXnT95sC/EFlEFciLPFVl2Ue2Csu81vDgGBJqZbHFABgZEuv7ihEO8ycvxVNzc63P6XPqoyMNzccWucURdjE5x+1x2OQxxsaxxQb0LJVva/2lqMjrN33uKGhoENMAYmQADEI5cfiAKhgDI42zKLfNt6YwbIgAqCQSCyyrYkv2u4bb6JRO5OIAV8QlAgiP1Tz2jzbSBIQOSrf6Rbd1kQtPk2YbNGGHiH4Ag0F1oPrY22Qe4GyKWE1kBr/q4nwPC7Vawp1gRrgTXDSv7h4Y+wDkcuKqD8DzJr5BmI9G6DS+TvPvxtD/MO8xDzBvMYM4EZB67g7aaVX1o+lGzqv5gLAFswgVgz+9U7v3/2Di2GsFZFG6F1Ef4IdzQbmgvIolWQnhii9ZG+qSLSfzKM/8Pt77H8d3sbrP/Zn19yeil61V8s/P7MjPEfrX9bMf7HGAUgT+t/a6L2oq6gbqO6UXdQHagWIIC6gWpFDaCub+A/nvB20xN+t+a4yS0MsUP5raNwTuG9ws9/tU3+1f7GeMXGBSbFbSwG46joZColOCROwBCJxoEClpH+cjICSgpKCgBsxPat0PHVcTNmQ2wP/paFpgKgzo8Ib/4tCxwFoP0FEs5o/5aJ7UaWKxJ/7/j6x1MTtmQb4RhgAC1gQFYFJ+ADwkAC6Y8SUAPawACYAiuwDTgDD7ADGfEQEIFwTgQ7QRbIBfngEDgKysAJcBrUgvPgMmgBHaAb3AL3wBB4DJ4hfjEFPoI5sAhWIAjCQUSIGeKE+CFRSBpSgjQgPcgUsoEcIQ/IFwqGIqF4aCe0C8qHCqEy6BRUB12C2qBu6A70EBqHXkPvoXnoB4yC6WAWmBcWg+VhDdgQtoadYW84GI6BU+AcuAAugavgBrgZ7obvwY/hCfgjvIACKAKKDSWIkkVpoIxR21CeqCAUFZWO2ocqRlWhLqDakXkeQU2gZlHLaCyaGS2AlkV80wLtgvZHx6DT0fvRZehadDO6Fz2Cfo2eQ69hiBgejDRGC2OJcccEYxIxuZhiTA2mCdOHrJspzCIWi2XDimPVkXXpgQ3FpmL3Yyuwjdgu7EPsJHYBh8Nx4qRxurhtODIuDpeLK8U14G7ghnFTuO94Ap4fr4Q3w3viI/HZ+GJ8Pb4TP4yfxq/QMNKI0mjRbKMJoEmmOUhTTdNO84BmimaFlolWnFaX1pk2lDaLtoT2Am0f7XParwQCQYigSXAgUAiZhBLCRUI/4TVhmY5EJ0VnTOdFF09XQHeWrotunO4rkUgUIxoQPYlxxAJiHfEm8SXxOz0zvRy9JX0AfQZ9OX0z/TD9ZwYaBlEGQ4YdDCkMxQxXGB4wzDLSMIoxGjOSGdMZyxnbGJ8wLjAxMykybWOKYNrPVM90h2mGhCOJkUxJAaQc0mnSTdIkM4pZmNmY2Z95F3M1cx/zFAuWRZzFkiWUJZ/lPMsgyxwriVWF1ZU1ibWc9TrrBBuKTYzNki2c7SDbZbZRth/svOyG7IHseewX2IfZlzi4OQw4Ajn2cTRyPOb4wSnAacoZxnmYs4XzBReaS4rLgSuRq5Krj2uWm4Vbm9ufex/3Ze6nPDCPFI8jTyrPaZ4BngVePl5z3mjeUt6bvLN8bHwGfKF8R/g6+d7zM/Pr8VP4j/Df4P8gwCpgKBAuUCLQKzAnyCNoIRgveEpwUHBFSFzIRShbqFHohTCtsIZwkPAR4R7hORF+EVuRnSLnRJ6K0ohqiIaIHhO9LbokJi7mJrZHrEVsRpxD3FI8Rfyc+HMJooS+RIxElcQjSaykhmSYZIXkkBQspSoVIlUu9UAallaTpkhXSD+UwchoykTKVMk8kaWTNZRNkD0n+1qOTc5GLluuRe6zvIi8p/xh+dvyawqqCuEK1QrPFEmKVorZiu2K80pSSv5K5UqPlInKZsoZyq3KX1SkVQJVKlXGVJlVbVX3qPaorqqpq1HVLqi9VxdR91U/rv5Eg0XDXmO/Rr8mRtNIM0OzQ3NZS00rTuuy1l/astph2vXaMzriOoE61TqTukK6ZN1TuhN6Anq+eif1JvQF9cn6VfpvDIQNAgxqDKYNJQ1DDRsMPxspGFGNmoyWjLWM04y7TFAm5ib7TAZNSaYupmWmL82EzILNzpnNmauap5p3WWAsrC0OWzyx5LX0t6yznLNSt0qz6rWms3ayLrN+YyNlQ7Vpt4VtrWyLbJ/bidpF2rVsA9sstxVte2Evbh9jf80B62DvUO7wzlHRcafjbSdmJx+neqdFZyPng87PXCRc4l16XBlcvVzrXJfcTNwK3Sbc5d3T3O95cHlQPFo9cZ6unjWeC9tNtx/dPuWl6pXrNeot7p3kfWcH147wHdd9GHzIPld8Mb5uvvW+P8nbyFXkBT9Lv+N+c/7G/sf8PwYYBBwJeB+oG1gYOB2kG1QYNBOsG1wU/D5EP6Q4ZJZiTCmjfAm1CD0RuhS2Lexs2Hq4W3hjBD7CN6ItkhQZFtkbxReVFPUwWjo6N3oiRivmaMwc1ZpaEwvFese2xrEgx5yBeIn43fGvE/QSyhO+J7omXkliSopMGkiWSs5Lnk4xSzmTik71T+3ZKbgza+frNMO0U+lQul96T4ZwRk7GVKZ5Zm0WbVZY1v1shezC7G+73Ha15/DmZOZM7jbffS6XPpea+2SP9p4Te9F7KXsH85TzSvPW9gXsu5uvkF+c/3O///67BxQPlBxYLwgqGDyodrDyEPZQ5KHRw/qHawuZClMKJ4tsi5qPCBzZd+TbUZ+jd4pVik8coz0Wf2yixKaktVSk9FDpz7KQssflRuWNx3mO5x1fqgioGK40qLxwgvdE/okfJyknx06Zn2quEqsqPo09nXD6XbVr9e0zGmfqarhq8mtWz0aenah1rO2tU6+rq+epP3gOPhd/7n2DV8PQeZPzrRdkL5xqZGvMvwguxl/8cMn30uhl68s9VzSuXLgqevV4E3PTvmaoObl5riWkZaLVo/Vhm1VbT7t2e9M1uWtnOwQ7yq+zXj/YSduZ07l+I+XGQld012x3cPdkj0/Ps5vuNx/1OvQO9ln39d8yu3XztuHtG/26/R13tO603dW423JP7V7zgOpA033V+02DaoPND9QftA5pDrU/1HnYOaw/3D1iMnLrkeWje4/tHj8cdRkde+L1ZGIsYGxmPHz8y9OEpyvPMp9jnu97wfii+CXPy6pXkq8aJ9Qmrr82eT3wxunNs0n/yY9vY9/+nMp5R3xXPM0/XTejNNPx3uz90IftH6Y+Rn9cmc39xPTp+GeJz1f/MvhrYM59buoL9cv6/P6vnF/PflP51rNgv/ByMWJxZWnfd87vtcsay7d/uP2YXkn8iftZsiq52r5mvfZ8PWJ9PZpMJW8eBVDIBQcFATB/FgCiBwDMQwDQ0m/lXr8KCtpIOTZ0icgZRgc5aRWBQYgEuUO1MAxHwJOoQNQ8Oh+jgJnAVuBC8SY0YrT0BJgORWSil2awZKQynSK9YOFj9WO7zIHm9OXq4uHnzeP7IuAteE9YS+SMGIt4psS0lJ10oyy9nL/8FYUVJW3lWJUTqr1qr9WXNem0uLSldDR0TfTs9D0NQgwTjHKNi01qTdvN7po/tZixXLJG2zDa8tiJb1O013IwcrR0snN2dHFxdXNzd/fw8PT03O7p5entucPdx9XXkWzrZ+avF6AaKBXEH8wcggtZoXwOfR32KPw2sirPRVVEH4hJppJjDeM44z7HdyccS4xKskoWTl5NeZLauHNvmm+6egY9srauZRVmh+zSzWHOmdndmVu0J2SvTh5b3mo+er/egfMHNQ5dPrxaxH9E+qhcscIxxRLlUpUy1XLV42oVWpVmJwJPlpwaO81abXjGuybybEptbt3h+vJzZxoaz7dduNk4fPHTZcEr0VeHmiVbwltL2prbH1yb7ljrZLuh2OXaXdgz02vRV37r/u3X/XN3sfdEB8zvBwzGPggfcnmoPsw3Qjuy/Gjy8f3RG0/axzrGbzztftb5vPHF4Zfhr4wmOCfmXw+9aZusfVs+dejd7unkmYj3vh9sPyrPkmY/frr1ufqv3LnQL3bzKl+FvkkueC92fldYPvLj1U/OVfe16vX1DT8BBMCNnBIdkTynAbyDxKEoqAvmhrPheVQ06jt6L0YQ04eNw8nhvuJ7aCpo0wgBdO5EJ3p3Bj/GeKZ8Ui3zEMt3NnF2b44izgfcRB4b3v18gwJEQQehw8JDogQxU/EEiRrJh1LfZBhlJeRU5DUVNBWVlSSV+VQYVSHVb2pTyG7Vr9mmVaddppOvm6oXqr/dwM7QyEjdWM5ExJTLjNEca75iMWc5ZTVmPWDTaXvRrmpbkX2OQ6wj2cneWc9F2pXDDeP2xf25R7/nle0nvPK8Y3d4+5j6ypCZyd/9Xvh3B1QH7g0KC7YNkacwUb6GPg5rDi+JSI50j1KLJkW/j7lBLYoNiFONx8SPJpxJjE8yTWZJnky5nJq50y6NJ+1DenvGgczQLMdsE8QztHar5Srskd4rmse/jzOftJ9wAH1gtWDx4JdD84eXi3BHOI5KFKsfMymxL91eFlxOPZ5Wsaey8MTxk2dPtVYNn14+I1njdTa/tqnuaf1ag+B50wshjQcutlz6fEX16u6mhy3EVt02SnvptXsd652qN8K7qruf32TqNeij3Mq/Xd/ff+f9PeKA8n3PwewHDUNPhrEjKo98HueMVj/pHXv3lPaZ/HPnF8kvK1/dnlh6ozhJfXtlan5aZib4/ekPr2a5P7l/Pv7X3JeEr7ILpCXaZfjHx5/X1ii/5p8WsAMZYIFkO8fAXQgLmUOHoUlYFz6FIqJ2o3HoQowYpgsbgCPh7uD30tjR8tMuEx7RtRLP0JcyFDIeZCoklTGfYWlm7Wd7yb7MSeKS5TbjIfPu5DvGf0GgR/CR0JTwJ5F50Tnk1DQm0SN5RmqXtKeMvCwkOyxXLZ+oYKUooLikNKhco5Ku6qImow6rj2mc18zWctWW0l7VGdI9rZeob2XAb7BgOGB0xjjdxNVUzgxj9tz8qsU+S18rNWuC9YRNk22enTcSKTD24w4NjplOTs6izosu/a5lbmHu2h4Ej2ee57aneFl4s3m/3XHJJ8PXmsxOnvS74J8SYBbIFPgsqCY4JkSbgqYMhh4L8w2XDP8S0RqZGWUWTRM9ELOfahWLj+2Ly47Xi19JaEmMTZJLep9cneKTypX6aGdBmkU6nN6ZkZ5pkcWbtZI9sas/59Lu8tycPRF7XfP09onlE/MX9j8/cLOg/uCRQ1mHEwupRdFHkGNBccyxmJLo0sgySrnvcacKq0qbE94nk09VVPWd/nyGtUb9rE2tY51D/fZzqQ1Xz680ml8suvTqivTVhKbuFkKrU1tJ+7MOwevhnde7mLtDe272cvfF3RrsF7uTdvfRgNT97MHJIdeHoyP+jxZG945xjZ9/ZvB89GXmhO0bp7eH3i29PzLb98V5aXxj/rd+g9soWDUAzpgB4HoEACdNBBcAIFqL7B86ANgTAXDWBDBnKYCuRwPIS+LP/sEHDJG9YxeoBn1I9MAi8cMSCoMOQI1IrvcNZoe1YR94F1wLD8JfUVwoQ1QI6hCSfb9BE9BqaDL6ALoNPY1hxZhi4pGsawxLhzXEJmIvYGdwQjgfXCXuJV4IH4K/iF+lsaE5SbNIa097nkAkRBKG6TToThEJxATiJL0DfTeDEkM1IyfjISYapt0kmJTNjGHOY2FkKWUVZb3CZsI2xh7Fgeeo5jTmfMu1h1uW+zFPBq8M73O+An4T/lWBdsEUIT1hjPADkeOiYWK64iTxDxK9klVS2dKBMjaymnJy8vIKeoouSuHKu5CQ36Q2or6oyatlrp2gU6f7Sp/TwM2w1OiViYRpvNktCy7LYKuj1sdsEmwNbNfturfttw91oDjmOF10fuvK5ebkXuAxsJ3o5eBdvGPMl4Gs7Gfu7xIQEJgRdC54hqIYmhU2EiGBeN7TGHVqcez3eLeEhsRPyewpCqlGOz3SMtLbMmmyQrLv56jtrtrDsDc9bzrfcH/OgaaCiUP0h+0KLx5ROdp3zK7kfplF+a0Kh8rvJ/urOqsv1xyrTamnNGy/YHiR9dLrK+ebMlp2tHle23m95cZyj2ZvxK19/aV3qwcaBzuHHg5PP8Y/0R0/8OzbS8+JpknCFHm6/QN+Vvwz+KviC998yTeehealiGXVHz9/Nq/5bMYPEWANYkAx6ABvIDwkBzlDKVAVkul/gTlhIzgMPgp3wR+RnN0Y2U0qUAOoFbQ02gtdgO5GL2CkMGRMCeYhloA1x+7G9uKwOCvcQdwYXgQfi++j4aFJpBml1aQ9SaAlJBKm6dzp7hONiR30GvTNDGoMbYz6jLeQHHWcFEiaZ85mYWGpZdVnHWeLZ2dhb+bw5IQ5G7g8uGm4O3hikbme4TvLTxGQE1gU7BY6KOwjoixKK/pWrEe8WiJPMlbKV9pBxlRWR05dXlVBTVFLyUjZVmW7aqRarnqNxgPNNW0VnSjdC3rzBpqGOUYjJuKmGWbPLLQtK6xWbexti+zubvvpIOcY4FTp/BSZYy/3Ux4ftqt67fIe8RH1jSV3+K0F6AamBXWH0FBcQ8+ELUXYRJ6O+hnjQW2N44zfmfA0SSE5NeV66o80rfSsjMEsoezkXSO7FXIL9nzOs9tXn79ywKBg58GmQwuFJkVVR2mKqcfGSvXKTh/HV0RVjp7UPVVzmqU6rwZ7tqCOr/5qg+35ycakS4TLJ66qNN1t8W1daN/bwXO96YZbN9zT1Eu5xXN78E7mPZWBD4Onh7YPM43ceOz/BIyVP9V89uLFnldKE6/e7H+rPTU7Xfne7sPC7N5Py39Zzu3+cml+8OvMt/VFjiXl787LO3/Ur3xY1Vg7ujn/ksAZZIA6MALWIElk9jOhBmgMxsIqsB98GO5GThHCKFdUHuo66itaEu2LLkWPYBgwNph8zD0sEeuILcW+wcni0nAP8GL4LPxrGnOay7QitOUENsJROja6MiI/sYZegb6DwYbhFXLeYGBqINmSvjCXspiwzLOeZnNlJ7B3c6RwqnEucrVxZ/BY8rIjc32d/6gAFTmBqAhziaCRvWdSbFx8WOIBkpk/ln4p81H2pzxJQUbRClnRRSqdqp/UBTTcNAu1hnVYdb316vVXDO2N6k1oTCPMnlhYWd6ytrEZs6PYA4dyJx3nN64F7voeC9sveVN91Hzn/coDpAPPB0uF1ISKhdVFyEe2RZvHjMVGxGMTqpIMk1+lJqVh0wsyWbJKdwnlnM/V3nM/zz8f2n+uwOsQ9nB5Ed+Ro8W4Y4kl02We5SMV7pXfTtZVBVbjzuyrWax1r2s6x9IQd360UfNi5WXMlcir483mLW1tCu31HSLXy2/Qd6V1f7jp1tt7S+n2qTukuzn3lu6HD74d8n44PuL26Mmo85M740pPC599fKH3suDVi9eyb9Inh6aE3yVN338v/CHhY9fs2mfFv6zmPL54zNt91fkmvIBbeLPYvpT5Xff73HLWD9KPkys0KzEr4z+Nfpb+nFlVX929+mhNeI2ydn5tbl1lPWn92sb8xwYpK21uHxCdEQCYl+vrX8UAwBUCsHp4fX2lan199TSSZDwHoCt863+dzb2GEYDjfRvoVsqUwr//X/kvTcjFOecQmmcAAAGdaVRYdFhNTDpjb20uYWRvYmUueG1wAAAAAAA8eDp4bXBtZXRhIHhtbG5zOng9ImFkb2JlOm5zOm1ldGEvIiB4OnhtcHRrPSJYTVAgQ29yZSA1LjQuMCI+CiAgIDxyZGY6UkRGIHhtbG5zOnJkZj0iaHR0cDovL3d3dy53My5vcmcvMTk5OS8wMi8yMi1yZGYtc3ludGF4LW5zIyI+CiAgICAgIDxyZGY6RGVzY3JpcHRpb24gcmRmOmFib3V0PSIiCiAgICAgICAgICAgIHhtbG5zOmV4aWY9Imh0dHA6Ly9ucy5hZG9iZS5jb20vZXhpZi8xLjAvIj4KICAgICAgICAgPGV4aWY6UGl4ZWxYRGltZW5zaW9uPjc2MjwvZXhpZjpQaXhlbFhEaW1lbnNpb24+CiAgICAgICAgIDxleGlmOlBpeGVsWURpbWVuc2lvbj4xMDk8L2V4aWY6UGl4ZWxZRGltZW5zaW9uPgogICAgICA8L3JkZjpEZXNjcmlwdGlvbj4KICAgPC9yZGY6UkRGPgo8L3g6eG1wbWV0YT4KkZ0ZvgAANilJREFUeAHtnQW4BUX5/wfjJ3aLYmMXFiIqit2KoNgoWICgWNiKYCBiIIgJIhigggkGKha2CCaKgYmJ3bX/72ce3/3P2bt76t5z7tlzv+/z3LtnZ2cnvjs7+85bs0klSiYjYASMgBEwAkbACBgBI2AElgqBcy1Vb9wZI2AEjIARMAJGwAgYASNgBDICZvQ9EIyAETACRsAIGAEjYASMwBIiYEZ/CR+qu2QEjIARMAJGwAgYASNgBMzoewwYASNgBIyAETACRsAIGIElRMCM/hI+VHfJCBgBI2AEjIARMAJGwAiY0fcYMAJGwAgYASNgBIyAETACS4iAGf0lfKjukhEwAkbACBgBI2AEjIARMKPvMWAEjIARMAJGwAgYASNgBJYQATP6S/hQ3SUjYASMgBEwAkbACBgBI2BG32PACBgBI2AEjIARMAJGwAgsIQJm9JfwobpLRsAIGAEjYASMgBEwAkbAjL7HgBEwAkbACBgBI2AEjIARWEIEzOgv4UN1l4yAETACRsAIGAEjYASMgBl9jwEjYASMgBEwAkbACBgBI7CECJjRX8KH6i4ZASNgBIyAETACRsAIGAEz+h4DRsAIGAEjYASMgBEwAkZgCREwo7+ED9VdMgJGwAgYASNgBIyAETACZvQ9BoyAETACRsAIGAEjYASMwBIiYEZ/CR+qu2QEjIARMAJGwAgYASNgBMzoewwYASNgBIyAETACRsAIGIElRMCM/hI+VHfJCBgBI2AEjIARMAJGwAiY0fcYMAJGwAgYASNgBIyAETACS4iAGf0lfKjukhEwAkbACBgBI2AEjIARMKPvMWAEjIARMAJGwAgYASNgBJYQATP6S/hQ3SUjYASMgBEwAkbACBgBI2BG32PACBgBI2AEjIARMAJGwAgsIQJm9JfwobpLRsAIGAEjYASMgBEwAkbAjL7HgBEwAkbACBgBI2AEjIARWEIEzOgv4UN1l4yAETACRsAIGAEjYASMgBl9jwEjYASMgBEwAkbACBgBI7CECJjRX8KH6i4ZASNgBIyAETACRsAIGAEz+h4DRsAIGAEjYASMgBEwAkZgCREwo7+ED9VdMgJGwAgYASNgBIyAETACZvQ9BoyAETACRsAIGAEjYASMwBIiYEZ/CR+qu2QEjIAR2OgI/POf/0wf/OAH06GHHjoAxS9/+cv0+Mc/Ph122GED6T4xAn1C4Jxzzkl/+tOf6ib/+9//Tj/60Y/q8/IH+f785z+XSf69gRAwo7+BHra7agSMgBFYdgROOOGEdIc73CFd/OIXT3e/+93Tj3/844EuH3vssZn532uvvdKvfvWrgWs+MQKLjMAhhxySx/alL33pdKlLXSqdffbZubknnnhiutrVrpaucpWrpN13373uwl/+8pe06667ps022yxd6UpXSmeccUZ9zT82DgJm9DfOs3ZPjYARMAJzQeArX/nKXOppq+Se97xnOvzww9Nf//rXfPnOd77zQLYHPvCB6QY3uEFO+8EPfjBwzSfdCHzpS1/qvrgBr7CA/M1vfjPXnqOJevjDH57rvfzlL5+uda1rpbe85S3pmc98ZrrkJS+Z23LUUUcltFlI/HkX/vCHP+Tz3/3ud+mkk06aa3v7Vtn3v//99Nvf/rZvzR7Z3vOMzOEMRsAIGAEjYATGQOCPf/xjetSjHpWlhze5yU3GuGM2WcKEYdNNN023vvWtBypBuvn+978/Sz8vfOELD1zr+wmS3Y997GNjdeMCF7hAfk5XvOIVE3/XvOY10//93/+13vuf//wnveAFL8h5XvziF6dzn/vcrfk2SiI477PPPnkcIVmfJ8GMQre//e3TySefnI455pj0xS9+MX3yk59Md7nLXdI//vGPxHu4/fbbp4MPPjjd7GY3S7yLp512WjrXuZZbtosG49Of/nT63Oc+l37xi1+kX//613lRdJnLXCZd73rXS9e//vXz3zWucY10nvOcJzGu99xzz7THHnukG97whtn0aYcddkhvfvOb8/k8n+tM66pMRsAIGAEjYARWicDpp59e6QNa6cO5ypJWf/sznvGMSh/OStL8zsIue9nLVpLedV7v4wUxOtXPf/7zSkxd9fSnPz1jAA7lnxY31SUucYmBNK5f4QpXqMQYVpTRRrIBr8QQVXe84x0rSbLbsix9GhiAqxaL1Te+8Y116a8WrvnZHXjggRW/JanP7RDDn9N5ByX5r97xjnfU7ZP0P1/TAqVOW5YfWthURxxxRMbivOc9bz2uL3axi1U3utGNqnvd617VVlttVZ3//Oevr2lBW2255ZaVzJ0q7inH/KmnnlptscUW1dve9rZlgajahJ7oJV84+uY3v5lCrYrdWahahzVUH5r0k5/8JGe56EUvmm5zm9sMy56vseoLlSQ2ndtuu+3Ie8bJwIoy1Hr3uMc9ZraSRhXHCv6CF7xgXuGP07Y+5vna175WOxrd7na3Sxe60IUm6gbqy0996lNj3bPJJpuky13uctnmUZPFWPfMKxPq2M9+9rO5OqQS1772tedV9dzqQcqCbTXvP9LDkDLyzHn2o4g5gLkg6K53vWvSZB6nrUcc2XDcDIp3dq3HzUc+8pH02Mc+Nukjk44//viorvfHo48+Ou22225pl112Sa9+9asT79B60k1vetOE+dBLX/rS9OQnP3lFU3iut7zlLRPfmWUmvp2h3aCfO+64Yz3uwln5+c9/fhJzU8OAdJ9vIpqPNsLm+xOf+ESWZiMh3SjE3Iu0Fzt3JOnj8CRrjQ3maPApPDvmfzHzScxsrmbvvfdO2PBrwZbbyW8IE6MrX/nKWYJNHy5ykYvk9L7/A4NXvvKVWWsRvgp8r3feeef06Ec/esXz+e9//5vgI5in0IAE3fzmN0+f//zn4zQfyQf/SDkHHXTQwLVenizqkuV1r3tdvfq67W1vO1YzpZ6q75Fasvr73/8+8r4DDjigvueRj3zkyPzjZqDNGhD5jxXnrEgqqVwHK9NlJpkD1Hjq4zxxV/Xhqu+P5zLOEckNY0QT7MR1zuIGfWDrfiC1XEZ6yUtekvsolXP1ne98p+6vzDDGeqef9KQn1ffwjLXAGwmTFub1PeW7tNbjRouYSgxCrquUuI1s4AJn+OhHP1rJlKN68IMfXOljuu4tVVSdSguNjLE+2K3t0aKuYpwsMyGllHlCPa55F8T8regyWg0xggP5tKCukF630b/+9a9qu+22q6561atWv//979uyLF0aWMjBu2IOQnO1XiRBQf2cxNgPNEOLrnyNb1b5XN70pjfl9Fvc4hYD+ft8Ag8gU5saC8b2Ax7wgFq7MaxvWiBUWgzU9z7lKU9pzf7hD38459FiovV6nxLTojb2zDPPrB8ETDsPZxjJFque3IOB06p72C352t3udre6HlRfa0V9ZPSZCCQtqCQFWisY1qyc9WL0Yyyh1v7ud7+7Zv1pK4gJB/z562JQlp3Rl/1pxfsO7h//+MczTKF2Ju2UU05pg24gLRjpeHbPfe5zB663naAGj/yS+NRZpmX0o6y2cfPe974316UoGAuzgKw7POEPSYsr2ShnU5BFMeeQc2LGF9OcLrr//e9f0fZlJml76zEd4/GrX/1qa5flwLkiL3NNFzE/yd67ut/97teVZSbpMLqvec1rqje+8Y0zKb+rUNnjZ3zGmUu6yliLdDnd5nZgeiWtVF0ki9t4xm94wxvqdH7IeTdfe/aznz2Q3teTI488Mi+4or8IGSYdD/CL0hBnXJiPu2innXaqMPP58pe/3JWlF+kL64yLWgoV1E9/+tMcPQE1LCqWLsIBSYgPXJakaaiqHxOBz3zmM/keVM2EZNvIhDobz3xUXMtMmiSTJobOLjIuUHd/4QtfyKpRxhXj8EEPelA2mxllBtJZ8IgLqGXBH6ING5EwawEHLcCTFssZAsx1iCwBidFPt7rVrfLvtn+Y4n39618fuMQ8sN9++w2kNU9wZAu6053uFD8Hjms1bu5973vnuYzxJe1F2nfffQfq6cuJNKbZFAQTRWLSR9SP9W5/RBbpeo6MD74thBtcZirHNP3E5KPL3ARTsibhvCnJfTM5n1MOZlrMo5hq8d7Og4im9Pa3vz3xLmJCNA965zvfmc03GC+yz59HlZ11SPiRr2FSUprgRDqOwZiulBTX5FtRJvfyN9+BRzziEQO83utf//qJxwI4SQOZtCga+j2RNj+95z3vSdIWZFPAEvNeAbjIy5GHPexhcO75T3ZSQ5uK2Q15ZZtfOxptvfXWQ+9hlRbl47SxloQ6VExH/lvLcptlraXpznWve90aw2Y9632+lhL9zTfffOzuoOJHchXjRJPK2PdOmlEfy7oenOnaCM1WjCttgtKWpbdp9Dlw/sAHPlD3A2lNpMt2vk5v+6FoCXVeTAu4D/MFRaFoy57TUMszb5CXZ106aJYS/bUcN7Jpz/XhMKaNbDrbtsgXFIc+9wGnti4zj/Vo/3Wuc53crjYpH2aUODAqfv56NG2udWpBnHGId0dRWDrrxzQx8sURKfYwkvAja9/Od77zVV2agmH3T3MN8wzah0R7HnTWWWfVkl8x/POosrMO5vswxcKksaTHPOYxGZfHPe5xZXIlP6ecjpZ0libEA5XO6ATJe/Q/xuhqNCyveMUrKnieUYRjM/VJ0Dcq68JeX+hYS6XjHZK8YYSTG0TIqVi54mAkW7XO20qJR5f0p/PmEReQnuDM1OXQNOJ2X14QBHDkfMhDHlK3Roxf/Xs9fqBNiHE1qUPyerR3kjpf9apX5eyEQivfx5DscxFHZM2mncXGPIB0OZwwxYQmmSF03iMmJceaJgNOnLy7q6VR4wanPn188/wkG9rVVjf3+3HqQ7oKEZpukcIt/vCHP8ztIkBBSTjv4YgnU4bEhkPLTGjFSodD+tolnecaYQibdOMb37iZNHBOHHe0nASDeOELXzhwbVlO0Fawo6zMwJLMlNa1W/BAzGURCrVsDM7BEPxPSSHNJ8QsQQ0IbjBs/izvXaTfaA3R4ND/IBzBZY4UpxMfCbgBLqOIMKoQYUy/9a1vjcq+kNd7w+iHiU0birLnr3c/ZHOU2CAF84cY6G33lVFYYnHQlo80XnZU7Xjcz2IraQYykUL4WwuzDba8hoFhssckZ9bEDpMwYURK4YM6DfES4+0uTctCbVpRLjibZiFt/aT/kgRlszAWBmCyFs+0ra5J0uRjkPHlwzwp0SfiN/OM25iCSctr5pcUPSmcWU5mQyNJbuoskswn/iBMm4ZFSsFMB+J9htkOivQ4L4+TzAPlfaN+Dxs3LNIw4YGIjtG3j6/sZBOmO1DZz5ywzv+IMAIRC5t44nIezSZfRFIitri0v+vcwtlXz3tKv0saxuhjplMS798wE7nIG4zSu9/97iQ78UheiiPjO0w8S2HDenUueJkmM0+Use9973s50lUz0mAIppi7MT9h/K93RKxp8HvqU5+6gidQwJaR0dSG1cUYH2fuwsyP6FXQa1/72nzs3b+F1TX8r2HEMxWo+U+rqdbmShJY50FVhZNV3IM5RBsRHQL1H/lQPaK6bBLxaYkJjXqnNN/A+eM+97lPJb+B5i31uZiV7NSKY6uYpDq9+QMHYKKLRHs5EudYG19UerFzdpxpKGebbbZp3l41TXdwktJueNmBpCwTh0at5isxnANlyN6tbifxZLmHiBXUF39ikgbuiROeB85YkjCsaD+44SA0iojgsP/++1cKdTcQ5xa8UT1/6EMfykWsl+kOlb/rXe+q+4fav43AVbZ8lSbhFU7hYIrDIn3QpDxwO6ZAgTPPPZ4ZZiKRro1q6nsUBqxOJzpNSTgLxz3hkMUYuu9975vjPkfZjF/MG0444YTy9tbfmAnJHrSSbWLdNspRWM/qiU98YlYHY3IT9R577LGt5YxKJLJBtE9MyorsjNO4LinbiuskENc68oTZRpjvDFPRSrpe3ydfn4GypzXdoZBR40bMUV0vjpN9IeZOIhOBtaRiC9dsomUQS5z2SaqfTS+YT3mWG4We9axn1WMLHDBNa879gQVzsBjEgfwKuRmXhx7LoBmS6g/NuxYX52m6E+Z14EcUwPWm4BNwnC4pouq0mR8rvGx+rnyjZcFQ3tab33xf4El4DvHHeJ0nEVGMujG1LGPuz7MNq6kLSdJCU8ngddlHY3vIQ7j61a9e90VbQ+c07fZXp5U/YIhj0MCcNUkahBUhxyJ/HGHMpE5r3prPJQGoy2+zjeNjGR70UV7ziF0dkYMkmcxlwaw3qWT0tdvjCga/WaZMIgZC4GHz3MzTPH/f+97XrLbiWUR0lGb+OIeZZPOWLuIajHPk7zo+7WlPy0xyXF9teM1JbK1pO9EKom78RprEs2RhF3mGHWE8z5LdZxC+J8Pyc60MA0gkjMjfDK/JwiuuMcEzdspNQuJaeRz2Qf/2t7+dQ+iV+Zu/JZXO4SsjPRYY0b9xj5RDGSw228LiRiQV8jDpthE2l9EO7IchIuhE2s9+9rMVt/HsZOaT84BVs+7VMPqjxk0ZKYNFU1+IxXdgush2q+CLHxYCm41GTfv8Lt8WmH/GXjxPjmww1LUoaMNRZlD5fhb7k9zXVtaotHky+gjWApemTfyodi7KdeY32i5t+aI0aeJ2yASzfg7xPOSQPXE5q7mhFCazOVffaOEZ/be+9a31Q25jspBGhLSx3JExHMUYGNowYsVzKR/ci170ooHrMEjh9MFKUtEFKlb3MPUwMrGwoGxCNGnL5YH7ORnF6JeOxsTmhSFhZQ4jB/MX98NMR4zjYYw+EuNg+lkYHHrooRXSXJwacSZBihsvSelURKgysOKPsI7kIZxUpHGUucpA/5DAR1ksdmA4kV5SH8wWkoW4juS3jdnn4wvDHfkIhYcjERJhNAg8ExZgcT36xvk8GX0cJSM+MXW3heJiIRLt5DnA9BOvmsUiYwmJfNl+2RrWeNLXwLoMC0kZkQ62QeMy+toYJ0szee5I5JFw057jjjuuKhd3aLOCKY46OMIghcaLviFNoh+EtyP+O88qxks4P5JvGkYf5iDKapNK0R7aGBgTlrKNtMlWzqOtzuvL9Dfu4x1uUqkFaNtFdVpGf5xxQ1t4p2kfY6wvVO5ToGhGfWn2hmknEkfm8Bj3HJvaP4RPLJ7Ld5dvDd9FmMNJKARR1DNrqfG8GH2c9wM/tMum9UGAsUiI4ngWHBmnbcLTWbYQTXq0QeY+s6xqJmUvPKOvHc9qgJGGNgnmJR5AyYQhhY70UOOX9xIfNa6XKl0WDhF9Bia+qcqPMmBIg3mGYW2umINRp47moCyZNRjDNlMFBnh4e0c7hzH65GFRAuPeRmAQ5XSpvaLfqHm7iDjnLEwoC4YKU6kmYapUSomYnJtUqpZRs8uBrpkln8NcNtV282L06SsakMCN6CJNiRXPPRaaLFbOKqT1ZYfk21GPF/rbRuNE3SnHzjCJPm1mbLUtQqm7XGi2RS4oxy8L3TbzMxaAmG4EPhynYfTLaDuY6HRRaOmop7l45x3DTINrpXScCDrxnrYJChQWsm5/W2SvaRj9ccZN9BHpaeDXtiCOfIt0xBQs2nzwwQcvUtPcFiGA8CCeTxwRuCCgYq8UvldhisoRrSqmc3xrpyG0OlHPrE1c5sXoM7dFnzDXMK0PAuW3IZ4HG5fNm8qNGxfRXHEUHv/f400oLiIJ1KRJKsmMIDs4stWxJqq6qRFlg2gkpWOFGJXsqCHGPWniWxFnNRzwiMerHXXr8nCMC89qSZVXeLFHRk042XEWL3badOKJJ9bOdZGn68i27EFijJIm3zitj2Ju8/bORA7SYqZOH/ZDUuC0++67t2bBYx0PddqKU+a09IQnPCE74eHIgrNbOEmW5fEs6COOwLQdRy2cjcV45mz8ZutqSExYkk1t3qI7JzT+aUGQxADlON2NS1Of4pxMP9oIh2Aiiohhz+3XC5SzySwsKdRm0odx4DZNRNnhj0Twl/p64HqcMIYlrc5bzYM/UTEkmYjLMzkSCWPbbbdtLRtcJeHO15rjgTGnBUW+pt0HE46XbUTUA9mL1s7vbXnGSSujg0jC2HkL77cm3HxdC5gcBzkya2fbJElmPg1nfE6IoLPVVltlR3rmgSbFPED6KIf8tRw30Q7ikcvkLp/SB6LxjEvs9YCT2mroOc95TuI5TkIR1YZ7ehtXepIO9yxvvLvRbKIPEUGHeRener4BQfK1yAErmIenpTL6F/PmMpDH+GI8xfI5RIvCATzO53Esxzh7tfztb39LMvWcR9VrUsfCM/r0Ei9zGH2IEFPa1TD/5l8w+jDLMiOp0/ktG7sEQxCbacE8QzALESGAskvmTeYzOY9W8UmmQPl31z/Z2OeNNCTlzRsvRBSNrvykMxGyKIBgHkfdI6n+2Iz+qM08JBHNkzx9ZwEEQz4JERklmBI2NBoWfg1MwYdIF3xcYAgj3OHxxx9fRy6SuUXrYqFsF/fh7Q7Oa0EwhLHQGFWeTFuSzJFypA7CkzWJcSJtSU4eFqWCBQMLiCAWFLMkwgcOiy7CB57FGu2QWcxAU6S+r8/jmdUJjR+EwZQmqF4cNy6PdcrEGQRj3kW8qxH1gHmADU+CYh7geTWji8D4EzELBoeoWeViIhh98GJRM4zWctxEPQgagljQTkKEDpYZ1SS3rMir+NsTM/osMIImZfQRDsjULW5f6mPJUM+zo01GH6FXRLQiYhbCCAQNEIt8rjU3WZqkvSUTRISxaYhIWnwnRhFRtyC+BQhZxiHmJ+aFSWg1YzzqkX9g/Z2LtGU8wnfAp8yCmt8m6oioWrOor6vMcozzLf+hQviW35Gu+xYlvTeMPvFsoZLRJ4QkH3ColOLlBP2DCYHRh7GVLW69K2B83MlXSvFgekJiSDztkBBGeW1Hma/kkIVyUMMMamToKtoRUmJFghhYZLSVD0M9DsG0jRp4MdnJLCivSCdl9JmMg8AH/IcRuy2yuKK/8hWoGX1CgQXJhCp+dh7RGrArMiHj5k0yCUkybcl4yTZ5RfUs1vjrIhZUhAxFw8HkMC9iLAyT0nEtGP1muFjaGzTO+COMZWjB4r5JjmW4ThZOXQTDEuOJeaCkYPSR9jQlLcwDcjrO2ZHqx3sCkxPMNbtihyCgLHfa36PGTZRb9pcQtZMQixOZKU1yy4q8k+4Oy5yIZDhoUkaf+wLzKGMZj6G9nHffkDSWGjLqL3d8Z8wowEUO6Rptk3lkXjQPmy8ib9uxZIKmZfQVKW6i+RHtWqmJb2tXpPGeD5ujI195LOfqacZ4lLURxnr0dRbHtjlR/m6zqGpomeUYJyPjPL4jQ29ckIu9YPSR0MUHHsY9CMlFSEbbGH3SYNIgPvCx/XcXo0+s2ZAqoAWY5AWnHUhsR03wpWpznJUpmgmYgWEbf9E/zJkmZdy5bxIqmbnnPe95ib9xKTQo5C8Z/XEw4B6Y/bVi9DEHa5qrUEcQTBqLGvlh5O3dYWyQbCN93WWXXSLbiiNMkJx2sgaGBR1aKBaOMaZW3DDDBKR201KMUUyLRo1n6piUWWy2a1xGHyYFMxP2MgBfpHtoADhibgS1zQNo9niPWJgyD8iROOftmgfyxZZ/sxg3q2H0eedf/vKXt7R0dkm8G6ulcbVpq61nI96P+VdzvkETVtJTnvKUJF+uOs4++9Ao6EWSD0uZbezf5cK61FqOXcACZlyLca5gCgvYs341qY0/mHZBupqeY6GARj/erb6N814w+jAbSIfZAAppI5ugwISHFI9dMJEwNwnb3GAE+MCH9Ct2xIV5xIQhKBicOJ/0yOpzFGNUqqKGmSmUdbOaHMXoz5rJpz2rwadcmSvMYd09mKdxqPTLGCf/sDwsGpu7Zpb5uYZkmD9+y0kzX1bkilZGn74deOCBSSFHW1W1jE/tu5A3AmMMz4OmHQ+o9EM9Psn4XE2fyo/qqHbDtMDooyVi4YdpmKI91WZdaMmaRJloAzA7C+EA2oyYB8iP1H8UrfW4ob7ST2MeG9uN6uOo6yx2Y9FEXubiSWg1JiKT1LNR8zK+S4pvZ5nGzqo8hzA55BpSfXYAn4aJKjXfbC40DTF/jtIQUy6bJMlBPs/L4y4Yp5EAlwzmpGM8+j8rc5YofyMcsZhoEgLZeROC3GDyqXvacT7vdkd9vWD0aSyOeDBJmJ0gteCDHow+5jelnX10jkkLxgCbcD7qmFHAZLKTHFSa7XBeSia33nrrrOIkfVwaxeRTzmabbVYXVzK/dWLjB7aIi6L+K/F56EMfmpq78DWaPnBafkB4SZisIez+x6HSXGCc/GuVB2dHRRbJYwf7bsaPoh/VxfMRQDWOhBnio4LfAYsERddJ2GnGM8cMZl6Mft3ACX/AeLKwxJwHSfs45mjl4nXC6nJ2JPVBo5hd5oH4wGO+A6Mf8wDb1CMQaCMk/TD6PC9MG7RBWwqJPs+pHNtt90+aNmrcRHklc1Pa68f1RTyiLWKxBZXtX8S2brQ2NRl93pc2kzT8JPBH43sKoeFUuM2kzRknhqwcA9NqEku/u2EN4F3n24EZ6jAfpGFljHMNIWBQ2b9I83E+CLQx+qVFwHxasXKem3acz6u9zXp6w+jDsMNwQZjv4GATDrptUrzoKJI6GH2kDiwQSql0U4qHHV/YLcPwKP54FLNmR5iKoNIOMNKaR9q7Vk6ozbInPS9t0sBqWnxKe0lW59jfj6JxsBpVxjTXWbxh8qVdkPPtMPslo88HM5h8mE4+lqU5xjR1rvc9jFEc3ZBgsMgcpU0ZZgY1Tl9iIUTeUZorzPhY1MOghBlfMPptZjtRf/muo93jGYbDXXkt8q/2OGrcRPllf8sFT1wfdmRemFbaGOUinWfOm4RKRn+19U9Sr/MORwD7/PBZi5xNs51IRwChXc0HnLmR6iPAKYUykX/YsWSE+8YAdfWr7IfHeBdKs09nftpiiy2yTXzU1hzjkT7LYznG+f6gFesTnasvjUV6HBMQkjw+1kGTfOBDisfDak6C2GCFKQ+LiLD/j3rajjiZErVAmxq1XV6RVjL6ivs/sg6iVCwKlYx+SPSGtQ2TDLDhr3Se5CMTFFF84rztiGSZRdp6Ufh2UH/TNi/GE9eQNA9j8ks/BfIvKpVjlEXyMOIjyDheDZWq9ZLxbSsTfCPakzb1ylF0QpU7bB4g4lRI7Zk7yufW1Oy11TtN2rBxE+WV/Z2U0WeBiRZgNX+l+VK0adTRTNAohNbnept9fumI22yV9uEYSEJSOs33pmSCSpOXgcJ7duIxvjgPbN999x1oDCab+FBOS4REJ3T6JFSO8Xn4Q07StnHy9obR1yZOtZc9qvcIUYlkv5SwNjvNajCYdz7w8WGDWcB2uknaDCYnEfLv8MMPb14eOEfaSXhMbBtxZhqHiKce/gSY7gxbIDC4iLO/KIRpBCYPELHxyyg8bW3UpmUZG/ApQ6Fhrx5e7NqlNwWj1lYGaTiO/f3vf++6PPP0YBCpKOzX+Y3EO7RKMFsxzrjWJKTeZTSb5vVFOkeqF8T4G7bg5Xozak/cO+6RdzSo9N+ItOYxFugsJGPCxjxhlGQ+ruMwzQIdQniAecMsqGvclHWVoUVL5qLMs2i/S5M9HDlNi4FAfNuiNZhIlov2SI8j+3pgZlgSUv1h73uZN36Xwo9J92SIMhbtyHweZiNozqaNJrRo/epje3ASxxS2JPaBmYaIvgZf17XfUFeZfR/jvWH0eQDxgUdFGQzyMLOdeGgh6eMDH0xllxQP29pYALDBVHPyjDIxHcDZJsxqSuYo8rQdYUiCOeE6doZt0WSwVabd87TPj/CbOGRGv5p9wCEVov/Yc2qH0maWfI5NPfhBmAawmVQQZg2xYRX17LjjjitiuUdeFgIlXpE+z2Ppe1FK5dEAhTQaX4Ng+pttg5nDBrXElDHcpMCf9PVUF2u31noTNzQ3xKsv2x7tZnG7FjHRYRzDfCRMpKKOtmPMA1yLBTZMSzyLtntIi3kAX523v/3tORsO+8O0MF1ljZPeNW7Ke08//fR8yoJj2D4M5T3xG6EBUZ1W89e2WV+U33XUDqs11qVmpCu/09sRQCrJ4pO5sWvuaL+zPbVpn1++J+13pNSU6vN9ZN+QcYlFQfhbwRiPY4Y5btnrna80TfU4n+5pIKxkjCHcPPTQQ6crRHcRXj2+ERSC+Q6807gCQKwCtINzbgMCSBZyk1BpUTBL35BJ2jRRXjnb9YYUq75S5wb+tFvpyPZrUTBwD2VIut95H9u6Rz0y8akUjq+iDK3qK6k3K0mz87bhkUcRPSpJdwfKIy2uS/I4cI0TxQ2uryuyS8XW3pJcV8ccc0y1xx57VFKB5uuKSlPd7GY3y7+luVhRjpibfE3S5BXXmgmKd17XqYVE83Il7UR9nfYdcMAB1cte9rJKk/9AXknk63yKzFJpB9bqpJNOqiSNrWROULENupyZ6jzaOGvgfk4kGa+kIajzSB1WSaVWaWFVyXa6Ou644zIO4A+O0ujUeaVJWFHeqAR9jOr7qWsSkgSgvpfnVFKJGX2WmVIlf4LcB+34W+23336VIkTl++X3UZejiBeVnMLLoiqFSqyvy+yj2n///SvF36/0Aa/z8TvGlSbQOp0fCn9aX9NkNHCt7WTTTTfN+aXdWnFZ9u9VXKc+bSZVianP7wHPSY7FVTwbMX51vZLwryhrnATt4JvL0CJ7ZHZ9PCpN+nWdtI+2jSItPus2B4ZajA69bVbjhkq1WK60yMj90IJjaDsW7aIEIjX+WuwvWvMWvj18E2LuZixKq7SqNsshvtJisX4mlMncPQ5JWjpwH++9Fo/j3FqJ4arvFTM21j2rycT8S9/EqK2mmLHulRS3ngMf8YhHjHWPMw0ioEVjPT54bnzfpyVtDpifO+XEn/ZSqKRV7CyS9wI+hu+KTI8zD9eZecgFvnfUCe8gQdGQnIt5iagavSGZCFQKlVc/ZElAK0mfR7ZfdrADk6Di/laSqA69T7uD1i95DKq2o0yHMtPaLGwUo89gkVS77ktb2XJEyQx0lCVTgGY19cdiLRh9Fhpt7dAKeKBeMNeOmq15m/dLGpwZmoEC/ncCoxuLmOZ95TnMsjZ5qeubN6MvP4K6bl50SbHq7vBBDGatbHP5mw+wVOKVtBN1OVxXZKe6HH7ItGcFA0s+bdRV55sXo0+FsoGvF5xlf8rfLAhZNEcaC5hpSHsy1GWw0BtFMiGr81O3pKOjbsnXYaijrRzLRVRbAath9IeNG+piAR1tUWzztuoXNo2Pa7RdWpWFbKcCGeQF9yI2DoFR4McRYcC0DAQLrVgol2VKgtk595aYICwr7+O3tEWVtHllttbf0vDme/lWsQCfNc2T0acvMjvN/ZMJ1Ky7NlX58DbMI9IAT3X/rG+SpcPA2GK8rIa023SloBcDZTJeZaZWIYCUaU7+Q9AlTXHm++ATtXvv1OOT730I6/hO9ZF6xegDsNTb9UOW+c3YmEtFPfF9CoVYUUcbI6dIIVkC27XQCOacQdgm0Y+Gox1gQlYkmtw+mEKpufIiIFaqTDKUA3PTpJAKrQWjL/OM/JLIcbFi4qZO/pqMfrSBFTZtLSW/cQ8SYLQgSC2HkVRvmZGlTpk11XVSDhJyqfvy7evJ6Mssp0LrEn1Dwl8SDHGs+CMPRyYYGEupfXN2RX6q5K1fl8OYbBKLARYASKwCj/Vi9GkbUvB99tknT5ryq8htZ8zJ3KoCB54vjF70G83ONMTiLcpAIzSKZKNZ5+fZDHvHyrLQgkQ949y3GkZ/1Lihn9EWNCh9I+ZG2s9ibxGJ8YpmdFFJZjv182/Teg5r9yGHHJLfQZnKtAoHYlzRf7SOMrMc+o4gGY174ojGjvmrTfsbbUMTQf4999wzkmZ6nDejz3sZeDAXLBqh8aV9Rx555KI1LbcHQUoIZ9H+y4x1TdpJf/lOhlY5nlF55FuLAIUF/2oILQTl0g8WGn2k3jH66wUy5hhI6JAc8humeK0JxqApFYGRCpMPpAuLSEiiMNmBsZe/QSU79qmaiXQC6bA2QGrVkkxV6BxvwnSJD4Mi1WRpWJuEjnHDxCGH8qEf3jk2e+yqaDuq0CZhyhMTrJyOm5fHPpe/TS4HScxGoDCZkH9BL7uLJDEkXbyzi0aLzugztys0bIVAqY8kh/b8vsqJvMLMZR40b0afPrGIYX5DeLdotOiMPnjB3PNNRNC11iTb+woTWUWLyoJXRb6rEEAqDPZIIeM4beEdZTHN8x/XFG6ccuedx4z+vBFXfWdphYnqlgXDKCrV/895znNGZfd1I7BqBJDgMT75G0cljFaHiRDpStNXZZLGhAkBmoxxzHcmKXvR8vLuh8bmiCOOWLTmjd2eY489Nj97JL98FFdLlMEiGN+J5kIZtbl2N6/QAo5Dq2H00WSVY5+2dM3X5GsKaMZpX5/zoEFTmOQKM1g50M+tK9p9vJKTbNZ4z6tSxhuLcea4Lu32pG0BPxZKaGZKginGJxDT4XFoNYw+7xrms6UpKuNYAUBaq6ZtsxBwtla2IInaVC4/dznML0iLpmuGGf3pcFvVXYr+kQcPZjpIgbuIFxHpJhMMf2EC0pXf6UZgLRBAKxNjDsfwYYSGK/IqysewrCOvMd7xeaE8fBqWmXBgp584iXWZ//Wl/+Gvo83ipm4yEjht4FQpUlHGhYVDSYpOVI8zJHbj0KSMPtJAxnC0QZFwcjUnnHBChX8Uz2u33Xarq8ZnbJdddsnMLmYJOMNvFDrwwAMzHkcfffSG6DK+WIwnHDqbC9BJAEBwxxgLLX3TN6cMBDKOZnxSRh9mHZ83TLUwXSTYRxCaWdIUTa466qijIjk7u2KihWCC+XmjMPsIvAgYQmCMWWgjaoDn8MOM/hxAblZx2GGH1R8t7DTb1J58/Hfaaac6n0IeNovxuRGYCQJM5PigwNggsVMoytZ6sMcP/xU+AvgqrJZCgwWzVUpUV1vuIt1Pv7Q5VsaXuaDvxFxF5CYiY03jKB/9RxsUvkpNm3WkjvgyMSaJojEOTcroUyYMDnVEhDNMArbccsvcP9LxR0Iai8QfU44ddtihDvQAk7YRCDMt/I/QrmwkwhcJrSX+Yqshovcxlvhr+jTBiMNYck0hHUdWMymjHwXuuuuuuQ7MgRGwKK589keMeT+ENszpaDO08VrdZhbdy04s5nD65TuEZrvvZEZ/HZ4gtuhh98ULzQeJj5jixVdISrBD5EMTkwGr7I0kLVqHR+IqGwjA4JTh+iK8JlJPPvDYl5fX+XCsFUUY2H333Xetilyocp773Ofmd5vAAnxkl4FQ+TNvYa/dDBs7bv9YMIRjf1s0JD6+BCYY16xhGkY/ns3OO++c/bG0oVQ2FcIOmPmYBS12wQRGwMQIYpHDtaYZxrj97lM+GD8WqREkoU9tX4u2Yl6IFo7oLtMSCyXGC2O9LfofJmJcx+9tFE3L6IelAGaDzLMRTSaCFRAND43WNttsk8c70m3axB/R4ZaZECpok67Moy1L6GAz+us0YvkwErkk7HTjJWoeYXrOkk2/yQjMGwEiQoWEpzku4xyJPtFj1pJh5QNDhAMYNe0ePe9uz7Q+JHb0C/X4Mi7ekWojlR83DnsJdjDT4NPl68FiAqf/cWgaRj8cpBG48Jv9PiD2N2HMs9DQRonZ4S/aEEIZ7dYeSUt5RPqsTbFy7Pyl7OCYnYIRx7SMkI3TUDDTmPB2ESYjBOcYRdMw+iyomX8Yz0Sv4Z0KwjSNdKI0IcWP4AocSUejsayaVjBg4UWYTvwkxo3kFtgt8vE8enimdUBAH6EkT/Qkp8Mk29YklXfeHVaMf962XI5OSZKivHPiOjTPVRqBpAkvKXRiktNYkiQrSVKbxHgnxSyux6jUm0kfpTVFS6FWkzZMy++GGOMkCeKalr+ehdEfdnpWONwke9/1bMpM6t57772TpIF5J0sx/RPVIUY/55dJTNJCr/VeMRxJ0vR8jd1kt9tuu9Z8JMquNompSVqsduZh52eFi83XycuOm5BCxyb5AtS7JsfOmOxorQ96klllzsfO4PKzyrt2KpZ9TlvGf5Jy5u+UIobVO8cvYz/H6ZNClqZTTjkl7+7O+JGpzTi31XlinMdO3fWF//2Q9Dzv3Cq/j5zCTqzyE2lmy+eMWUiLz85dyiWdTgcddFDOxz/5YCUtpJM0CknOzUkLuPpajPOTTz4575CsRXu+xj0QO9wq9Hb+vYz/tOFl3qlai5+l6p4Z/XV+nEwaigm+zq1w9UagHQG2HVcc7vzXnmM2qdS5jCQTqMTfMhOMeDDjk/RzFAMkLWheAAxj3Cepr5k3GCDSZbKTZJtcZ4HxgWQ+lGS2UafLDCP/ZnGjUKN1+rL9YB6Q/8KydWvq/shHIWmDyYnvR1By2mmn5fu6GH2YbWny67IR/q0lxZhVNKGkHa4TQkdIJmmJhQskzU26733vm3/zL+7R3hl12jL+0A7Iy9itZEZ/KR+rO2UEjIAR6A8CSMXRakIKUNDacNkTJ20eV1/T7q1JkUnq8+YPJI+yp04ytWheaj0PZkab1aX999+/zgNzJnvpfK5oUElOx/W1uEdmDnWafxiBLgS0b0LWCKEF7dIEyJxmQAKPdqmLFNs9KXJPkn9IUgSormwD6eWYRWsbJL+Y3DaZ5yT5YkVyPpb3DFzwSS8QMKPfi8fkRhoBI2AElheBMB/QbpYJBr5JmChgNiL7/OalNTsPZkZx2gek85GuCBxJTroD9cW1ZZd0DnTaJ1MjEOO8azGLRB3TSIVznbqOYTcqJGzSDr85CwuEkkJrhTkmpsNB8hHMZpSY+iiAQCT72CMEzOj36GG5qUbACBiBZUQgmA/F627t3j777JMUAjCttRlDVFYyQE31fTBAioyWMNkIggHCRl8x0dMtbnGLSPbRCHQiMGycYzevXXiz715nAau88JnPfCabn22++eZJO5EPlBbjvKkZQNIPweTD7Jv6h8C5+tdkt9gIGAEjYASWCYEwr1Eo4RXdwhYax9omY7Ii4yoScK7E4RSNQinNpMhggBRbfKCGkOYrOk9SFJOkDYey6cNAJp8YgQKBrnEOk6+IN0nRbmYafCDGLKZm5aIZ07kzzzwzp+EMX1Lcg9ZKEXeS9v4oL/t3DxAwo9+Dh+QmGgEjYASWGQGCEkBEFyESGZFtsIvXrrs5Ghl2y7OkYGaazDyRprRhTmaAFHt8oAkhnf3+97+fiNKx/fbbDzBPA5l9YgSEQIxz7VOSmWacu1lkYi7D+CHCziypa5zHYlabw+WIP2UbYpxjdvTYxz52bF+Asgz/Xl8EbLqzvvi7diNgBIzAhkdAO+Em7biZtCFT2mKLLTKzcbnLXS4p5njCZGbWNIoBIlISTrolRehBxdvOJhfLGC617K9/rx4BnFz32muvvKDFfAapOiYx2u05KTb/6isYUgLS+FNPPTXnaC5og9FvM51jnBPKFq0DWqs2rduQan1pARDYhCD/C9AON8EIGAEjYAQ2OAKY6JxxxhlJm1AlGP3V0KRRdyati08ncf3ZE0G7RE96u/NvYASI5IS2iLGjTQenRiKi7qDxatrWT11o40bCcJ599tl5Ad645NOeIGBGvycPys00AkbACBiB8RHAHppQgbOKYDJ+S5zTCMwGATbXOuecc/KmbxEPfzY1udQ+I2BGv89Pz203AkbACBgBI2AEjIARMAIdCNgZtwMYJxsBI2AEjIARMAJGwAgYgT4jYEa/z0/PbTcCRsAIGAEjYASMgBEwAh0ImNHvAMbJRsAIGAEjYASMgBEwAkagzwiY0e/z03PbjYARMAJGwAgYASNgBIxABwJm9DuAcbIRMAJGwAgYASNgBIyAEegzAmb0+/z03HYjYASMgBEwAkbACBgBI9CBgBn9DmCcbASMgBEwAkbACBgBI2AE+oyAGf0+Pz233QgYASNgBIyAETACRsAIdCBgRr8DGCcbASNgBIyAETACRsAIGIE+I2BGv89Pz203AkbACBgBI2AEjIARMAIdCJjR7wDGyUbACBgBI2AEjIARMAJGoM8ImNHv89Nz242AETACRsAIGAEjYASMQAcCZvQ7gHGyETACRsAIGAEjYASMgBHoMwJm9Pv89Nx2I2AEjIARMAJGwAgYASPQgYAZ/Q5gnGwEjIARMAJGwAgYASNgBPqMgBn9Pj89t90IGAEjYASMgBEwAkbACHQgYEa/AxgnGwEjYASMgBEwAkbACBiBPiNgRr/PT89tNwJGwAgYASNgBIyAETACHQiY0e8AxslGwAgYASNgBIyAETACRqDPCJjR7/PTc9uNgBEwAkbACBgBI2AEjEAHAmb0O4BxshEwAkbACBgBI2AEjIAR6DMCZvT7/PTcdiNgBIyAETACRsAIGAEj0IGAGf0OYJxsBIyAETACRsAIGAEjYAT6jIAZ/T4/PbfdCBgBI2AEjIARMAJGwAh0IGBGvwMYJxsBI2AEjIARMAJGwAgYgT4jYEa/z0/PbTcCRsAIGAEjYASMgBEwAh0ImNHvAMbJRsAIGAEjYASMgBEwAkagzwiY0e/z03PbjYARMAJGwAgYASNgBIxABwL/D6T1c4sfrotQAAAAAElFTkSuQmCC\" width=\"573\" height=\"82\"></p>\n",
    "<p>dimana,</p>\n",
    "<p>v: jumlah votes untuk film tersebut<br>m: jumlah minimum votes yang dibutuhkan supaya dapat masuk dalam chart<br>R: rata-rata rating dari film tersebut<br>C: rata-rata jumlah votes dari seluruh semesta film</p></div>"
   ]
  },
  {
   "cell_type": "markdown",
   "metadata": {
    "colab_type": "text",
    "id": "KyYluQoFlv4H"
   },
   "source": [
    "<div id=\"theorycontent\" style=\"overflow-x: scroll; display: block;\"><h2>Import Library dan File Unloading</h2><p>Langkah pertama yang harus kita lakukan adalah melakukan import library yang dibutuhkan untuk pengerjaan project ini dan melakukan pembacaan dataset.</p>\n",
    "<p>Notes :</p>\n",
    "<ul>\n",
    "<li>Library yang akan kita gunakan adalah <strong>pandas</strong> (as <strong>pd</strong>) dan <strong>numpy </strong>(as<strong> np</strong>)</li>\n",
    "<li>Dataset yang akan digunakan adalah <strong>title.basics.tsv</strong> dan <strong>title.ratings.tsv</strong></li>\n",
    "</ul>\n",
    "<p>Akses dataset :</p>\n",
    "<ol>\n",
    "<li>title.basic.tsv = https://dqlab-dataset.s3-ap-southeast-1.amazonaws.com/title.basics.tsv</li>\n",
    "<li>title.ratings.tsv = https://dqlab-dataset.s3-ap-southeast-1.amazonaws.com/title.ratings.tsv</li>\n",
    "</ol></div>"
   ]
  },
  {
   "cell_type": "code",
   "execution_count": 36,
   "metadata": {
    "colab": {},
    "colab_type": "code",
    "id": "qH8FGUCwlwd_"
   },
   "outputs": [],
   "source": [
    "#import library yang dibutuhkan\n",
    "import pandas as pd\n",
    "import numpy as np\n",
    "\n",
    "\n",
    "\n",
    "#lakukan pembacaan dataset\n",
    "movie_df = pd.read_csv('https://dqlab-dataset.s3-ap-southeast-1.amazonaws.com/title.basics.tsv', sep='\\t') #untuk menyimpan title_basics.tsv\n",
    "rating_df = pd.read_csv('https://dqlab-dataset.s3-ap-southeast-1.amazonaws.com/title.ratings.tsv', sep='\\t') #untuk menyimpan title.ratings.tsv"
   ]
  },
  {
   "cell_type": "markdown",
   "metadata": {
    "colab_type": "text",
    "id": "uM9w2eNnpQiN"
   },
   "source": [
    "<div id=\"theorycontent\" style=\"overflow-x: scroll; display: block;\"><h2>5 Data teratas dari table movie</h2><p>Hal pertama yang akan kita lakukan adalah menampilkan 5 data teratas yang ada pada table movie (movie_df).&nbsp;</p></div>"
   ]
  },
  {
   "cell_type": "code",
   "execution_count": 37,
   "metadata": {
    "colab": {
     "base_uri": "https://localhost:8080/",
     "height": 153
    },
    "colab_type": "code",
    "id": "RbEvZ1pppRhJ",
    "outputId": "998749fb-b58e-4ff5-e38e-652b37fb1f0e"
   },
   "outputs": [
    {
     "name": "stdout",
     "output_type": "stream",
     "text": [
      "      tconst  titleType  ... runtimeMinutes             genres\n",
      "0  tt0221078      short  ...             \\N  Documentary,Short\n",
      "1  tt8862466  tvEpisode  ...             \\N       Comedy,Drama\n",
      "2  tt7157720  tvEpisode  ...             29   Comedy,Game-Show\n",
      "3  tt2974998  tvEpisode  ...             \\N               News\n",
      "4  tt2903620  tvEpisode  ...             \\N        Documentary\n",
      "\n",
      "[5 rows x 9 columns]\n"
     ]
    }
   ],
   "source": [
    "print(movie_df.head())"
   ]
  },
  {
   "cell_type": "markdown",
   "metadata": {
    "colab_type": "text",
    "id": "9_YJenG0pz4m"
   },
   "source": [
    "<div id=\"theorycontent\" style=\"overflow-x: scroll; display: block;\"><h2>Tipe Data dari Setiap Kolom</h2><p style=\"text-align: justify;\">Setelah berhasil menampilkan 5 data teratas yang ada pada table movie (movie_df), hal selanjutnya yang akan kita lakukan adalah melakukan pengecekan <strong>tipe data dari masing-masing kolom</strong> yang ada pada <strong>table movie</strong> (movie_df) tersebut.</p></div>"
   ]
  },
  {
   "cell_type": "code",
   "execution_count": 39,
   "metadata": {
    "colab": {
     "base_uri": "https://localhost:8080/",
     "height": 306
    },
    "colab_type": "code",
    "id": "J28NJudIp0c4",
    "outputId": "38626413-c41e-40ad-b3a2-8001808fc94b"
   },
   "outputs": [
    {
     "name": "stdout",
     "output_type": "stream",
     "text": [
      "<class 'pandas.core.frame.DataFrame'>\n",
      "RangeIndex: 9025 entries, 0 to 9024\n",
      "Data columns (total 9 columns):\n",
      " #   Column          Non-Null Count  Dtype \n",
      "---  ------          --------------  ----- \n",
      " 0   tconst          9025 non-null   object\n",
      " 1   titleType       9025 non-null   object\n",
      " 2   primaryTitle    9011 non-null   object\n",
      " 3   originalTitle   9011 non-null   object\n",
      " 4   isAdult         9025 non-null   int64 \n",
      " 5   startYear       9025 non-null   object\n",
      " 6   endYear         9025 non-null   object\n",
      " 7   runtimeMinutes  9025 non-null   object\n",
      " 8   genres          9014 non-null   object\n",
      "dtypes: int64(1), object(8)\n",
      "memory usage: 634.7+ KB\n",
      "None\n"
     ]
    }
   ],
   "source": [
    "print(movie_df.info())"
   ]
  },
  {
   "cell_type": "markdown",
   "metadata": {
    "colab_type": "text",
    "id": "xnFVMk00r9iE"
   },
   "source": [
    "<div id=\"theorycontent\" style=\"overflow-x: scroll; display: block;\"><h2>Pengecekan Data dengan Nilai NULL</h2><p>Merupakan suatu hal yang wajib untuk melakukan pengecekan terhadap nilai NULL yang ada di dalam dataset saat melakukan cleaning.</p>\n",
    "<p>Oleh karena itu, hal selanjutnya yang akan kita lakukan adalah melakukan pengecekan apakah ada<strong> data bernilai NULL pada masing-masing kolom yang ada pada table movie (movie_df)</strong></p></div>"
   ]
  },
  {
   "cell_type": "code",
   "execution_count": 40,
   "metadata": {
    "colab": {
     "base_uri": "https://localhost:8080/",
     "height": 187
    },
    "colab_type": "code",
    "id": "PdwYTh8Xr97e",
    "outputId": "1040876f-3839-42eb-8048-d21b503c050a"
   },
   "outputs": [
    {
     "name": "stdout",
     "output_type": "stream",
     "text": [
      "tconst             0\n",
      "titleType          0\n",
      "primaryTitle      14\n",
      "originalTitle     14\n",
      "isAdult            0\n",
      "startYear          0\n",
      "endYear            0\n",
      "runtimeMinutes     0\n",
      "genres            11\n",
      "dtype: int64\n"
     ]
    }
   ],
   "source": [
    "print(movie_df.isnull().sum())"
   ]
  },
  {
   "cell_type": "markdown",
   "metadata": {
    "colab_type": "text",
    "id": "FwEUEW7gsK-T"
   },
   "source": [
    "<div id=\"theorycontent\" style=\"overflow-x: scroll; display: block;\"><h2>Analisis Kolom dengan data bernilai NULL - part 1</h2><p>Dari hasil pengecekan nilai NULL yang sudah dilakukan sebelumnya, diketahui bahwa kolom 'primaryTitle' dan 'originalTitle' memiliki banyak data yang bernilai NULL.</p>\n",
    "<p>Hal selanjutnya yang akan kita lakukan adalah melakukan pengecekan terhadap <strong>bentuk data dari kolom primaryTitle dan originalTitle yang bernilai NULL.&nbsp;</strong></p></div>"
   ]
  },
  {
   "cell_type": "code",
   "execution_count": 42,
   "metadata": {
    "colab": {
     "base_uri": "https://localhost:8080/",
     "height": 306
    },
    "colab_type": "code",
    "id": "AwUGggbcsLsJ",
    "outputId": "e3484dad-029e-413c-e1db-5e112e999aea"
   },
   "outputs": [
    {
     "name": "stdout",
     "output_type": "stream",
     "text": [
      "          tconst  titleType  ... runtimeMinutes                genres\n",
      "9000  tt10790040  tvEpisode  ...             \\N                    \\N\n",
      "9001  tt10891902  tvEpisode  ...             \\N                 Crime\n",
      "9002  tt11737860  tvEpisode  ...             \\N  Comedy,Drama,Romance\n",
      "9003  tt11737862  tvEpisode  ...             \\N  Comedy,Drama,Romance\n",
      "9004  tt11737866  tvEpisode  ...             \\N  Comedy,Drama,Romance\n",
      "9005  tt11737872  tvEpisode  ...             \\N                    \\N\n",
      "9006  tt11737874  tvEpisode  ...             \\N  Comedy,Drama,Romance\n",
      "9007   tt1971246  tvEpisode  ...             \\N             Biography\n",
      "9008   tt2067043  tvEpisode  ...             \\N                 Music\n",
      "9009   tt4404732  tvEpisode  ...             \\N                Comedy\n",
      "9010   tt5773048  tvEpisode  ...             \\N             Talk-Show\n",
      "9011   tt8473688  tvEpisode  ...             \\N                 Drama\n",
      "9012   tt8541336  tvEpisode  ...             \\N    Reality-TV,Romance\n",
      "9013   tt9824302  tvEpisode  ...             \\N           Documentary\n",
      "\n",
      "[14 rows x 9 columns]\n"
     ]
    }
   ],
   "source": [
    "print(movie_df.loc[(movie_df['primaryTitle'].isnull()) | (movie_df['originalTitle'].isnull())])"
   ]
  },
  {
   "cell_type": "markdown",
   "metadata": {
    "colab_type": "text",
    "id": "TMrLy7Uys9Ta"
   },
   "source": [
    "<div id=\"theorycontent\" style=\"overflow-x: scroll; display: block;\"><h2>Membuang Data dengan Nilai NULL - part 1</h2><p style=\"text-align: justify;\">Setelah melihat hasil sebelumnya, dapat dilihat bahwa semua data tidak memiliki judul dan kita dapat membuang data-data tersebut.</p>\n",
    "<p style=\"text-align: justify;\">Pekerjaan selanjutnya yang akan kita lakukan adalah membuang data dengan nilai NULL tersebut dan melihat jumlah data yang ada setelah data-data bernilai NULL tersebut dibuang.&nbsp;</p></div>"
   ]
  },
  {
   "cell_type": "code",
   "execution_count": 43,
   "metadata": {
    "colab": {
     "base_uri": "https://localhost:8080/",
     "height": 34
    },
    "colab_type": "code",
    "id": "IWFYGbpcs-MV",
    "outputId": "3d161673-959a-4758-e530-5125d59d30a4"
   },
   "outputs": [
    {
     "name": "stdout",
     "output_type": "stream",
     "text": [
      "9011\n"
     ]
    }
   ],
   "source": [
    "# mengupdate movie_df dengan membuang data-data bernilai NULL\n",
    "movie_df = movie_df.loc[(movie_df['primaryTitle'].notnull()) & (movie_df['originalTitle'].notnull())]\n",
    "# menampilkan jumlah data setelah data dengan nilai NULL dibuang\n",
    "print(len(movie_df))"
   ]
  },
  {
   "cell_type": "markdown",
   "metadata": {
    "colab_type": "text",
    "id": "8PzVFkYutcOT"
   },
   "source": [
    "<div id=\"theorycontent\" style=\"overflow-x: scroll; display: block;\"><h2>Analisis Kolom dengan data bernilai NULL - part 2</h2><p>Selain kolom 'primaryTitle' dan 'originalTitle',masih terdapat kolom lain yang memiliki data bernilai NULL. Kolom tersebut adalah kolom 'genres'</p>\n",
    "<p>Selanjutnya, kita akan melakukan hal yang sama seperti yang sudah kita lakukan pada kolom 'primaryTitle' dan 'originalTitle'.</p>\n",
    "<p>Lakukan pengecekan terhadap <strong>bentuk data dari kolom genres yang bernilai NULL.&nbsp;</strong></p>\n",
    "<p>&nbsp;</p></div>"
   ]
  },
  {
   "cell_type": "code",
   "execution_count": 44,
   "metadata": {
    "colab": {
     "base_uri": "https://localhost:8080/",
     "height": 255
    },
    "colab_type": "code",
    "id": "W0AjFcCatcwQ",
    "outputId": "403819a9-03d3-4440-9d75-170eafd1506a"
   },
   "outputs": [
    {
     "name": "stdout",
     "output_type": "stream",
     "text": [
      "          tconst  titleType  ...          runtimeMinutes genres\n",
      "9014  tt10233364  tvEpisode  ...              Reality-TV    NaN\n",
      "9015  tt10925142  tvEpisode  ...               Talk-Show    NaN\n",
      "9016  tt10970874  tvEpisode  ...                      \\N    NaN\n",
      "9017  tt11670006  tvEpisode  ...             Documentary    NaN\n",
      "9018  tt11868642  tvEpisode  ...               Talk-Show    NaN\n",
      "9019   tt2347742  tvEpisode  ...                      \\N    NaN\n",
      "9020   tt3984412  tvEpisode  ...              Reality-TV    NaN\n",
      "9021   tt8740950  tvEpisode  ...              Reality-TV    NaN\n",
      "9022   tt9822816  tvEpisode  ...                      \\N    NaN\n",
      "9023   tt9900062  tvEpisode  ...  Animation,Comedy,Drama    NaN\n",
      "9024   tt9909210  tvEpisode  ...                      \\N    NaN\n",
      "\n",
      "[11 rows x 9 columns]\n"
     ]
    }
   ],
   "source": [
    "print(movie_df.loc[movie_df['genres'].isnull()])"
   ]
  },
  {
   "cell_type": "markdown",
   "metadata": {
    "colab_type": "text",
    "id": "T7pVgFpht7gc"
   },
   "source": [
    "<div id=\"theorycontent\" style=\"overflow-x: scroll; display: block;\"><h2>Membuang Data dengan Nilai NULL - part 2</h2><p>Setelah melihat hasil sebelumnya, dapat dilihat bahwa semua data tidak memiliki judul dan kita dapat membuang data-data tersebut.Pekerjaan selanjutnya yang akan kita lakukan adalah membuang data dengan nilai NULL tersebut dan melihat jumlah data yang ada setelah data-data bernilai NULL tersebut dibuang.&nbsp;</p></div>"
   ]
  },
  {
   "cell_type": "code",
   "execution_count": 45,
   "metadata": {
    "colab": {
     "base_uri": "https://localhost:8080/",
     "height": 34
    },
    "colab_type": "code",
    "id": "408fzrUVt3br",
    "outputId": "5e98cef8-bac2-4f9e-c562-f79acff8e233"
   },
   "outputs": [
    {
     "name": "stdout",
     "output_type": "stream",
     "text": [
      "9000\n"
     ]
    }
   ],
   "source": [
    "# mengupdate movie_df dengan membuang data-data bernilai NULL\n",
    "movie_df = movie_df.loc[movie_df['genres'].notnull()]\n",
    "# menampilkan jumlah data setelah data dengan nilai NULL dibuang\n",
    "print(len(movie_df))"
   ]
  },
  {
   "cell_type": "markdown",
   "metadata": {
    "colab_type": "text",
    "id": "-mzGZU_duTpB"
   },
   "source": [
    "<div id=\"theorycontent\" style=\"overflow-x: scroll; display: block;\"><h2>Mengubah Nilai '\\\\N'</h2><p>Jika kita perhatikan pada kolom 'startYear' , 'endYear', dan 'runtimeMinutes', terdapat data dengan nilai '\\\\N'</p>\n",
    "<p>'\\\\N' berarti NULL.</p>\n",
    "<p>Hal selanjutnya yang akan kita lakukan adalah mengubah nilai dari \\\\\\N tersebur menjadi np.nan dan melakukan casting kolom startYear, endYear, dan runtimeMinutes menjadi float64.</p></div>"
   ]
  },
  {
   "cell_type": "code",
   "execution_count": 46,
   "metadata": {
    "colab": {
     "base_uri": "https://localhost:8080/",
     "height": 68
    },
    "colab_type": "code",
    "id": "2caRa9rKuUHH",
    "outputId": "4c9381f5-5101-44dd-f0dc-6003410b16a2"
   },
   "outputs": [
    {
     "name": "stdout",
     "output_type": "stream",
     "text": [
      "[1898. 2018. 2016. 1987. 1973.]\n",
      "[  nan 2005. 1955. 2006. 1999.]\n",
      "[nan 29.  7. 23. 85.]\n"
     ]
    }
   ],
   "source": [
    "# mengubah nilai '\\\\N' pada startYear menjadi np.nan dan cast kolomnya menjadi float64\n",
    "movie_df['startYear'] = movie_df['startYear'].replace('\\\\N', np.nan)\n",
    "movie_df['startYear'] = movie_df['startYear'].astype('float64')\n",
    "print(movie_df['startYear'].unique()[:5])\n",
    "\n",
    "# mengubah nilai '\\\\N' pada endYear menjadi np.nan dan cast kolomnya menjadi float64\n",
    "movie_df['endYear'] = movie_df['endYear'].replace('\\\\N', np.nan)\n",
    "movie_df['endYear'] = movie_df['endYear'].astype('float64')\n",
    "print(movie_df['endYear'].unique()[:5])\n",
    "\n",
    "# mengubah nilai '\\\\N' pada runtimeMinutes menjadi np.nan dan cast kolomnya menjadi float64\n",
    "movie_df['runtimeMinutes'] = movie_df['runtimeMinutes'].replace('\\\\N', np.nan)\n",
    "movie_df['runtimeMinutes'] = movie_df['runtimeMinutes'].astype('float64')\n",
    "print(movie_df['runtimeMinutes'].unique()[:5])"
   ]
  },
  {
   "cell_type": "markdown",
   "metadata": {
    "colab_type": "text",
    "id": "J-88wc4TugrS"
   },
   "source": [
    "<div id=\"theorycontent\" style=\"overflow-x: scroll; display: block;\"><h2>Mengubah nilai genres menjadi list</h2><p>Selanjutnya, kita akan membuat sebuah function yang bernama <strong>transform_to_list</strong> untuk mengubah nilai genre menjadi list.&nbsp;</p></div>"
   ]
  },
  {
   "cell_type": "code",
   "execution_count": 47,
   "metadata": {
    "colab": {
     "base_uri": "https://localhost:8080/",
     "height": 119
    },
    "colab_type": "code",
    "id": "9gWxceuzuhPx",
    "outputId": "c3bc122f-cf88-4b0c-8dc3-8648d3b0f997"
   },
   "outputs": [
    {
     "data": {
      "text/plain": [
       "0    [Documentary, Short]\n",
       "1         [Comedy, Drama]\n",
       "2     [Comedy, Game-Show]\n",
       "3                      []\n",
       "4                      []\n",
       "Name: genres, dtype: object"
      ]
     },
     "execution_count": 47,
     "metadata": {
      "tags": []
     },
     "output_type": "execute_result"
    }
   ],
   "source": [
    "def transform_to_list(x):\n",
    "    if ',' in x: \n",
    "    # ubah menjadi list apabila ada data pada kolom genre\n",
    "        return x.split(',')\n",
    "    else: \n",
    "    # jika tidak ada data, ubah menjadi list kosong\n",
    "        return []\n",
    "\n",
    "movie_df['genres'] = movie_df['genres'].apply(lambda x: transform_to_list(x))\n",
    "\n",
    "# menampilkan 5 data teratas\n",
    "movie_df['genres'].head()"
   ]
  },
  {
   "cell_type": "markdown",
   "metadata": {
    "colab_type": "text",
    "id": "6-Ru7KMAvgIu"
   },
   "source": [
    "<div id=\"theorycontent\" style=\"overflow-x: scroll; display: block;\"><h2>Menampilkan 5 data teratas</h2><p>Seperti yang sudah kita lakukan pada table movie (movie_df) sebelumnya, sekarang kita akan menampilkan 5 data teratas dari table ratings (rating_df)</p></div>"
   ]
  },
  {
   "cell_type": "code",
   "execution_count": 48,
   "metadata": {
    "colab": {
     "base_uri": "https://localhost:8080/",
     "height": 119
    },
    "colab_type": "code",
    "id": "MHbqm0qCvgw5",
    "outputId": "ffba71ef-8ba0-4fe6-83f4-d0ea587fe3fb"
   },
   "outputs": [
    {
     "name": "stdout",
     "output_type": "stream",
     "text": [
      "      tconst  averageRating  numVotes\n",
      "0  tt0000001            5.6      1608\n",
      "1  tt0000002            6.0       197\n",
      "2  tt0000003            6.5      1285\n",
      "3  tt0000004            6.1       121\n",
      "4  tt0000005            6.1      2050\n"
     ]
    }
   ],
   "source": [
    "print(rating_df.head())"
   ]
  },
  {
   "cell_type": "markdown",
   "metadata": {
    "colab_type": "text",
    "id": "ACpHcNT9vtHf"
   },
   "source": [
    "<div id=\"theorycontent\" style=\"overflow-x: scroll; display: block;\"><h2>Menampilkan tipe data </h2><p>Selanjutnya, kita akan menampilkan tipe data dari masing-masing kolom yang ada pada table rating (rating_df)</p></div>"
   ]
  },
  {
   "cell_type": "code",
   "execution_count": 49,
   "metadata": {
    "colab": {
     "base_uri": "https://localhost:8080/",
     "height": 204
    },
    "colab_type": "code",
    "id": "wwo-ylVKvtok",
    "outputId": "e7e079e5-c9d8-478e-a3b2-d794ed4995cc"
   },
   "outputs": [
    {
     "name": "stdout",
     "output_type": "stream",
     "text": [
      "<class 'pandas.core.frame.DataFrame'>\n",
      "RangeIndex: 1030009 entries, 0 to 1030008\n",
      "Data columns (total 3 columns):\n",
      " #   Column         Non-Null Count    Dtype  \n",
      "---  ------         --------------    -----  \n",
      " 0   tconst         1030009 non-null  object \n",
      " 1   averageRating  1030009 non-null  float64\n",
      " 2   numVotes       1030009 non-null  int64  \n",
      "dtypes: float64(1), int64(1), object(1)\n",
      "memory usage: 23.6+ MB\n",
      "None\n"
     ]
    }
   ],
   "source": [
    "print(rating_df.info())"
   ]
  },
  {
   "cell_type": "markdown",
   "metadata": {
    "colab_type": "text",
    "id": "bGAIxoR9v5k5"
   },
   "source": [
    "<div id=\"theorycontent\" style=\"overflow-x: scroll; display: block;\"><h2>Inner Join table movie dan table rating</h2><p><span class=\"c1\">Mari kita melakukan <strong>inner</strong> join antara rating_df dan movie_df untuk mendapatkan rating pada setiap film yang tersedia, lalu tampilkan <strong>5 data teratas</strong> dan<strong> tipe data</strong> dari tiap kolom yang ada.&nbsp;</span></p></div>"
   ]
  },
  {
   "cell_type": "code",
   "execution_count": 50,
   "metadata": {
    "colab": {
     "base_uri": "https://localhost:8080/",
     "height": 476
    },
    "colab_type": "code",
    "id": "xt05C77yv6HZ",
    "outputId": "c7cf5c59-ca49-455b-ba75-f40107799b56"
   },
   "outputs": [
    {
     "name": "stdout",
     "output_type": "stream",
     "text": [
      "      tconst  titleType  ... averageRating numVotes\n",
      "0  tt0043745      short  ...           7.1      459\n",
      "1  tt0167491      video  ...           5.7        7\n",
      "2  tt6574096  tvEpisode  ...           8.5      240\n",
      "3  tt6941700  tvEpisode  ...           8.0       11\n",
      "4  tt7305674      video  ...           9.7        7\n",
      "\n",
      "[5 rows x 11 columns]\n",
      "<class 'pandas.core.frame.DataFrame'>\n",
      "Int64Index: 1376 entries, 0 to 1375\n",
      "Data columns (total 11 columns):\n",
      " #   Column          Non-Null Count  Dtype  \n",
      "---  ------          --------------  -----  \n",
      " 0   tconst          1376 non-null   object \n",
      " 1   titleType       1376 non-null   object \n",
      " 2   primaryTitle    1376 non-null   object \n",
      " 3   originalTitle   1376 non-null   object \n",
      " 4   isAdult         1376 non-null   int64  \n",
      " 5   startYear       1376 non-null   float64\n",
      " 6   endYear         26 non-null     float64\n",
      " 7   runtimeMinutes  1004 non-null   float64\n",
      " 8   genres          1376 non-null   object \n",
      " 9   averageRating   1376 non-null   float64\n",
      " 10  numVotes        1376 non-null   int64  \n",
      "dtypes: float64(4), int64(2), object(5)\n",
      "memory usage: 129.0+ KB\n",
      "None\n"
     ]
    }
   ],
   "source": [
    "# melakukan join pada kedua dataframe\n",
    "movie_rating_df = pd.merge(movie_df, rating_df, on='tconst', how='inner')\n",
    "\n",
    "# menampilkan 5 data teratas\n",
    "print(movie_rating_df.head())\n",
    "\n",
    "# menampilkan tipe data dari tiap kolom\n",
    "print(movie_rating_df.info())"
   ]
  },
  {
   "cell_type": "markdown",
   "metadata": {
    "colab_type": "text",
    "id": "tCAAl9dewGel"
   },
   "source": [
    "<div id=\"theorycontent\" style=\"overflow-x: scroll; display: block;\"><h2>Memperkecil ukuran Table</h2><p>Hal selanjutnya yang akan kita lakukan adalah memperkecil ukuran table dengan menghilangkan semua nilai NULL dari kolom <strong>startYear</strong> dan <strong>runtimeMinutes</strong> karena tidak masuk akal jikalau film tersebut tidak diketahui kapan tahun rilis dan durasi nya.&nbsp;</p></div>"
   ]
  },
  {
   "cell_type": "code",
   "execution_count": 52,
   "metadata": {
    "colab": {
     "base_uri": "https://localhost:8080/",
     "height": 340
    },
    "colab_type": "code",
    "id": "DqdLRJ88wGzm",
    "outputId": "4c20e841-82b9-4897-b36b-3d29f4cc12c1"
   },
   "outputs": [
    {
     "name": "stdout",
     "output_type": "stream",
     "text": [
      "<class 'pandas.core.frame.DataFrame'>\n",
      "Int64Index: 1004 entries, 0 to 1374\n",
      "Data columns (total 11 columns):\n",
      " #   Column          Non-Null Count  Dtype  \n",
      "---  ------          --------------  -----  \n",
      " 0   tconst          1004 non-null   object \n",
      " 1   titleType       1004 non-null   object \n",
      " 2   primaryTitle    1004 non-null   object \n",
      " 3   originalTitle   1004 non-null   object \n",
      " 4   isAdult         1004 non-null   int64  \n",
      " 5   startYear       1004 non-null   float64\n",
      " 6   endYear         17 non-null     float64\n",
      " 7   runtimeMinutes  1004 non-null   float64\n",
      " 8   genres          1004 non-null   object \n",
      " 9   averageRating   1004 non-null   float64\n",
      " 10  numVotes        1004 non-null   int64  \n",
      "dtypes: float64(4), int64(2), object(5)\n",
      "memory usage: 94.1+ KB\n",
      "None\n"
     ]
    }
   ],
   "source": [
    "movie_rating_df = movie_rating_df.dropna(subset=['startYear','runtimeMinutes'])\n",
    "# Untuk memastikan tidak ada lagi nilai NULL\n",
    "print(movie_rating_df.info())"
   ]
  },
  {
   "cell_type": "markdown",
   "metadata": {
    "colab_type": "text",
    "id": "oAOtzNMBwmr1"
   },
   "source": [
    "<div id=\"theorycontent\" style=\"overflow-x: scroll; display: block;\"><h2>Pertanyaan 1: Berapa nilai C?</h2><p>Hal pertama yang akan kita cari adalah nilai dari C yang merupakan rata-rata dari averageRating</p></div>"
   ]
  },
  {
   "cell_type": "code",
   "execution_count": 54,
   "metadata": {
    "colab": {
     "base_uri": "https://localhost:8080/",
     "height": 34
    },
    "colab_type": "code",
    "id": "9Vmsejn0wnLc",
    "outputId": "bf5fb5aa-b1b0-4858-bdee-17612a743893"
   },
   "outputs": [
    {
     "name": "stdout",
     "output_type": "stream",
     "text": [
      "6.829581673306767\n"
     ]
    }
   ],
   "source": [
    "C = movie_rating_df['averageRating'].mean()\n",
    "print(C)"
   ]
  },
  {
   "cell_type": "markdown",
   "metadata": {
    "colab_type": "text",
    "id": "K7rKtSsnxCqy"
   },
   "source": [
    "<div id=\"theorycontent\" style=\"overflow-x: scroll; display: block;\"><h2> Pertanyaan 2: Berapa nilai m?</h2><p><span class=\"c1\">Mari kita ambil contoh film dengan numVotes di atas 80% populasi, jadi populasi yang akan kita ambil hanya sebesar 20%.&nbsp;</span></p></div>"
   ]
  },
  {
   "cell_type": "code",
   "execution_count": 55,
   "metadata": {
    "colab": {
     "base_uri": "https://localhost:8080/",
     "height": 34
    },
    "colab_type": "code",
    "id": "CEK8xKj5xDVv",
    "outputId": "39c9efc1-99e3-490a-c934-fc0caa8be675"
   },
   "outputs": [
    {
     "name": "stdout",
     "output_type": "stream",
     "text": [
      "229.0\n"
     ]
    }
   ],
   "source": [
    "m = movie_rating_df['numVotes'].quantile(0.8)\n",
    "print(m)\n"
   ]
  },
  {
   "cell_type": "markdown",
   "metadata": {
    "colab_type": "text",
    "id": "S1CRrMNQxYv-"
   },
   "source": [
    "<div id=\"theorycontent\" style=\"overflow-x: scroll; display: block;\"><h2> Pertanyaan 3: Bagaimana cara membuat fungsi weighted formula?</h2><p>Selanjutnya kita harus membuat sebuah fungsi dengan menggunakan dataframe sebagai variable.&nbsp;</p></div>"
   ]
  },
  {
   "cell_type": "code",
   "execution_count": 56,
   "metadata": {
    "colab": {
     "base_uri": "https://localhost:8080/",
     "height": 153
    },
    "colab_type": "code",
    "id": "DA7r1Ba-xZJ3",
    "outputId": "998d5bdd-1143-4db9-e14e-002ad102b8ca"
   },
   "outputs": [
    {
     "name": "stdout",
     "output_type": "stream",
     "text": [
      "      tconst  titleType  ... numVotes     score\n",
      "0  tt0043745      short  ...      459  7.009992\n",
      "1  tt0167491      video  ...        7  6.796077\n",
      "2  tt6574096  tvEpisode  ...      240  7.684380\n",
      "5  tt2262289      movie  ...       27  6.921384\n",
      "6  tt0874027  tvEpisode  ...        8  6.869089\n",
      "\n",
      "[5 rows x 12 columns]\n"
     ]
    }
   ],
   "source": [
    "def imdb_weighted_rating(df, var=0.8):\n",
    "    v = df['numVotes']\n",
    "    R = df['averageRating']\n",
    "    C = df['averageRating'].mean()\n",
    "    m = df['numVotes'].quantile(var)\n",
    "    df['score'] = (v/(m+v))*R + (m/(m+v))*C # rumus IMDb \n",
    "    return df['score']\n",
    "    \n",
    "imdb_weighted_rating(movie_rating_df)\n",
    "\n",
    "# melakukan pengecekan dataframe\n",
    "print(movie_rating_df.head())"
   ]
  },
  {
   "cell_type": "markdown",
   "metadata": {
    "colab_type": "text",
    "id": "kSjfGia2xmOJ"
   },
   "source": [
    "<div id=\"theorycontent\" style=\"overflow-x: scroll; display: block;\"><h2>Pertanyaan 4: Bagaimana cara membuat simple recommender system?</h2><p>Dari task yang sudah kita lakukan sebelumnya, telah terdapat field tambahan 'score'.</p>\n",
    "<p>Pertama kita akan filter numVotes yang lebih dari m kemudian diurutkan score dari tertinggi ke terendah untuk diambil nilai beberapa nilai teratas</p></div>"
   ]
  },
  {
   "cell_type": "code",
   "execution_count": 57,
   "metadata": {
    "colab": {
     "base_uri": "https://localhost:8080/",
     "height": 323
    },
    "colab_type": "code",
    "id": "hmPyZSlgxmmY",
    "outputId": "40799643-1805-4c46-f1fa-8d29c293765a"
   },
   "outputs": [
    {
     "name": "stdout",
     "output_type": "stream",
     "text": [
      "         tconst  titleType  ... numVotes     score\n",
      "68    tt4110822  tvEpisode  ...     3820  9.254624\n",
      "236   tt2200252      video  ...     1411  8.955045\n",
      "1181  tt7697962  tvEpisode  ...     1536  8.892450\n",
      "326   tt7124590  tvEpisode  ...     1859  8.850993\n",
      "1045  tt0533506  tvEpisode  ...     2740  8.740308\n",
      "71    tt8399426  tvEpisode  ...     1428  8.700045\n",
      "1234  tt2843830  tvEpisode  ...     1753  8.660784\n",
      "1087  tt4295140   tvSeries  ...    12056  8.566998\n",
      "1054  tt2503932  tvEpisode  ...     2495  8.451165\n",
      "448   tt0337566      video  ...     1343  8.256663\n",
      "624   tt0620159  tvEpisode  ...      401  8.020118\n",
      "1281  tt3166390  tvEpisode  ...      396  8.014679\n",
      "314   tt0954759  tvEpisode  ...     2766  8.002863\n",
      "189   tt5661506      video  ...      330  7.992798\n",
      "151   tt3954426  tvEpisode  ...      437  7.991253\n",
      "\n",
      "[15 rows x 12 columns]\n"
     ]
    }
   ],
   "source": [
    "def simple_recommender(df, top=50):\n",
    "    df = df.loc[df['numVotes'] >= m]\n",
    "    df = df.sort_values(by='score',ascending=False) #urutkan dari nilai tertinggi ke terendah\n",
    "    \n",
    "    # mengambil 50 teratas\n",
    "    df = df[:top]\n",
    "    return df\n",
    "    \n",
    "# mengambil 15 data teratas     \n",
    "print(simple_recommender(movie_rating_df, top=15))"
   ]
  },
  {
   "cell_type": "markdown",
   "metadata": {
    "colab_type": "text",
    "id": "3p4VHVEAyRBL"
   },
   "source": [
    "<div id=\"theorycontent\" style=\"overflow-x: scroll; display: block;\"><h2>Pertanyaan 5: Bagaimana cara membuat simple recommender system dengan user preferences?</h2><p>Dari task yang sudah dilakukan sebelumnya, dapat dilihat sekarang daftar film telah diurutkan dari score tertinggi ke terendah.</p>\n",
    "<p>Film dengan averageRating yang tinggi tidak selalu mendapat posisi yang lebih tinggi dibanding film dengan averageRating lebih rendah, hal ini disebabkan karena kita juga memperhitungkan faktor banyaknya votes</p>\n",
    "<p><br>Sistem rekomendasi ini masih bisa ditingkatkan dengan menambah filter spesifik tentang titleType, startYear, ataupun filter yang lain</p>\n",
    "<p>Pekerjaan selanjutnya yang akan kita lakukan adalah membuat function untuk melakukan filter berdasarkan isAdult, startYear, dan genres.&nbsp;</p></div>"
   ]
  },
  {
   "cell_type": "code",
   "execution_count": 59,
   "metadata": {
    "colab": {
     "base_uri": "https://localhost:8080/",
     "height": 918
    },
    "colab_type": "code",
    "id": "nMpMsJ7fyRh7",
    "outputId": "c708e227-8c8f-4816-8f4f-36a5d2ae4caa"
   },
   "outputs": [
    {
     "name": "stdout",
     "output_type": "stream",
     "text": [
      "         tconst  titleType  ... numVotes     score\n",
      "68    tt4110822  tvEpisode  ...     3820  9.254624\n",
      "1181  tt7697962  tvEpisode  ...     1536  8.892450\n",
      "326   tt7124590  tvEpisode  ...     1859  8.850993\n",
      "71    tt8399426  tvEpisode  ...     1428  8.700045\n",
      "1234  tt2843830  tvEpisode  ...     1753  8.660784\n",
      "1054  tt2503932  tvEpisode  ...     2495  8.451165\n",
      "1281  tt3166390  tvEpisode  ...      396  8.014679\n",
      "151   tt3954426  tvEpisode  ...      437  7.991253\n",
      "1344  tt6644294  tvEpisode  ...      812  7.976536\n",
      "357   tt4084774  tvEpisode  ...      289  7.928908\n",
      "708   tt2751234  tvEpisode  ...     1077  7.794774\n",
      "605   tt9141176  tvEpisode  ...      674  7.777823\n",
      "983   tt5063116  tvEpisode  ...      275  7.741020\n",
      "1017  tt2206822  tvEpisode  ...      525  7.644528\n",
      "73    tt0847785  tvEpisode  ...      405  7.641127\n",
      "625   tt7348490  tvEpisode  ...      413  7.518184\n",
      "1272  tt0534736  tvEpisode  ...      689  7.482870\n",
      "800   tt0901201  tvEpisode  ...      654  7.474263\n",
      "659   tt3909890  tvEpisode  ...      410  7.452229\n",
      "1170  tt0647504  tvEpisode  ...      538  7.440123\n",
      "1001  tt2129485  tvEpisode  ...      501  7.426951\n",
      "977   tt4391820  tvEpisode  ...     1558  7.414087\n",
      "1096  tt6822518      movie  ...     1541  7.413262\n",
      "910   tt3348270  tvEpisode  ...      436  7.400262\n",
      "746   tt0534765  tvEpisode  ...      620  7.392196\n",
      "299   tt4527626  tvEpisode  ...      859  7.358892\n",
      "509   tt1256301  tvEpisode  ...      501  7.358321\n",
      "897   tt2349242  tvEpisode  ...      270  7.354658\n",
      "1090  tt0212815      movie  ...     3906  7.273948\n",
      "109   tt1753383      movie  ...    61521  7.198626\n",
      "550   tt8163822      short  ...     2222  7.165391\n",
      "834   tt6509862      movie  ...      960  7.047918\n",
      "600   tt0329002      movie  ...      423  7.005022\n",
      "642   tt0993186  tvEpisode  ...     4982  6.992511\n",
      "691   tt3663996  tvEpisode  ...      309  6.927461\n",
      "727   tt3563898   tvSeries  ...      733  6.807042\n",
      "164   tt0464049      movie  ...    19858  6.800337\n",
      "893   tt8858104      movie  ...     7935  6.703635\n",
      "927   tt3663990  tvEpisode  ...      403  6.683187\n",
      "462   tt5197828  tvEpisode  ...      641  6.586752\n",
      "1068  tt8369852  tvEpisode  ...      563  6.453124\n",
      "940   tt0396190      movie  ...     2342  6.438263\n",
      "610   tt3526706      movie  ...     3890  6.329443\n",
      "1126  tt2151739      movie  ...      258  6.284136\n",
      "637   tt0857275      movie  ...     2288  6.166378\n",
      "385   tt0472259      movie  ...     3738  6.047889\n",
      "1014  tt1159705      movie  ...      355  5.899785\n",
      "1043  tt5518756      movie  ...      387  5.742978\n",
      "1154  tt1386492      movie  ...      642  5.186193\n",
      "492   tt0882806      movie  ...      229  5.164791\n",
      "\n",
      "[50 rows x 12 columns]\n"
     ]
    }
   ],
   "source": [
    "df = movie_rating_df.copy()\n",
    "\n",
    "def user_prefer_recommender(df, ask_adult, ask_start_year, ask_genre, top=50):\n",
    "    #ask_adult = yes/no\n",
    "    if ask_adult.lower() == 'yes':\n",
    "        df = df.loc[df['isAdult'] == 1]\n",
    "    elif ask_adult.lower() == 'no':\n",
    "        df = df.loc[df['isAdult'] == 0]\n",
    "\n",
    "    #ask_start_year = numeric\n",
    "    df = df.loc[df['startYear'] >= int(ask_start_year)]\n",
    "\n",
    "    #ask_genre = 'all' atau yang lain\n",
    "    if ask_genre.lower() == 'all':\n",
    "        df = df\n",
    "    else:\n",
    "        def filter_genre(x):\n",
    "            if ask_genre.lower() in str(x).lower():\n",
    "                return True\n",
    "            else:\n",
    "                return False\n",
    "        df = df.loc[df['genres'].apply(lambda x: filter_genre(x))]\n",
    "\n",
    "    df = df.loc[df['numVotes'] >= m]#Mengambil film dengan m yang lebih besar dibanding numVotes\n",
    "    df = df.sort_values(by='score', ascending=False)\n",
    "    \n",
    "    # hanya mengambil 50 data teratas\n",
    "    df = df[:top]\n",
    "    return df\n",
    "\n",
    "print(user_prefer_recommender(df,\n",
    "                       ask_adult = 'no',\n",
    "                        ask_start_year = 2000,\n",
    "                       ask_genre = 'drama'\n",
    "                       ))"
   ]
  },
  {
   "cell_type": "markdown",
   "metadata": {
    "colab_type": "text",
    "id": "o3Xca90U0ApR"
   },
   "source": [
    "<img style=\"display: block; margin-left: auto; margin-right: auto;\" src=\"data:image/jpg;base64,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\" alt=\"\" width=\"884\" height=\"378\">"
   ]
  },
  {
   "cell_type": "markdown",
   "metadata": {
    "colab_type": "text",
    "id": "7vBstglv1thX"
   },
   "source": [
    "![](certificate.jpg)"
   ]
  }
 ],
 "metadata": {
  "colab": {
   "name": "Building Recommender System .ipynb",
   "provenance": []
  },
  "kernelspec": {
   "display_name": "Python 3",
   "language": "python",
   "name": "python3"
  },
  "language_info": {
   "codemirror_mode": {
    "name": "ipython",
    "version": 3
   },
   "file_extension": ".py",
   "mimetype": "text/x-python",
   "name": "python",
   "nbconvert_exporter": "python",
   "pygments_lexer": "ipython3",
   "version": "3.8.3"
  },
  "latex_envs": {
   "LaTeX_envs_menu_present": true,
   "autoclose": true,
   "autocomplete": true,
   "bibliofile": "biblio.bib",
   "cite_by": "apalike",
   "current_citInitial": 1,
   "eqLabelWithNumbers": true,
   "eqNumInitial": 1,
   "hotkeys": {
    "equation": "Ctrl-E",
    "itemize": "Ctrl-I"
   },
   "labels_anchors": false,
   "latex_user_defs": false,
   "report_style_numbering": false,
   "user_envs_cfg": false
  }
 },
 "nbformat": 4,
 "nbformat_minor": 1
}
